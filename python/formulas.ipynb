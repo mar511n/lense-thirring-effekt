{
 "cells": [
  {
   "cell_type": "markdown",
   "id": "9cae88b7",
   "metadata": {},
   "source": [
    "### Konventionen\n",
    "$$\n",
    "\\bm{\\eta}=\\begin{bmatrix}\n",
    "1 & 0 & 0 & 0 \\\\\n",
    "0 & -1 & 0 & 0 \\\\\n",
    "0 & 0 & -1 & 0 \\\\\n",
    "0 & 0 & 0 & -1\n",
    "\\end{bmatrix}\n",
    "$$\n",
    "Metrik $(+---)$, natürliche Einheiten, in denen $c=G=1$"
   ]
  },
  {
   "cell_type": "markdown",
   "id": "f231ccd5",
   "metadata": {},
   "source": [
    "### Metrik & Geodäten\n",
    "$$\n",
    "\\vec{ x } : \\mathbb{R}^2 \\rightarrow \\mathbb{R}^3\n",
    "$$\n",
    "$$\n",
    "\\vec{ x }({u},{v}) = ({u},{v},0)\n",
    "$$\n",
    "$$\n",
    "{g}_{\\mu \\nu} = \\partial_{\\mu} \\vec{ x }\\cdot\\partial_{\\nu} \\vec{ x }\n",
    "$$\n",
    "$$\n",
    "\\bm{g} = \\begin{bmatrix}\n",
    "1 & 0 \\\\\n",
    "0 & 1\n",
    "\\end{bmatrix}\n",
    "$$\n",
    "$$\n",
    "\\frac{\\mathrm{d}^2 {x}^{\\lambda}}{\\mathrm{d} \\tau^2} = -\\Gamma^{\\lambda}_{\\mu \\nu}[\\bm{g}(\\vec{ x })] \\frac{\\mathrm{d} {x}^{\\mu}}{\\mathrm{d} \\tau} \\frac{\\mathrm{d} {x}^{\\nu}}{\\mathrm{d} \\tau}\n",
    "$$"
   ]
  },
  {
   "cell_type": "markdown",
   "id": "90478ad5",
   "metadata": {},
   "source": [
    "### Feldgleichungen\n",
    "2D Fläche $\\rightarrow$ 4D Mannigfaltigkeit\n",
    "\n",
    "Koordinaten $(t,x,y,z)$ $\\Rightarrow$ $\\bm{g}\\in\\mathbb{R}^{4\\times 4}$\n",
    "$$\n",
    "{ R }_{\\mu \\nu} - \\frac{1}{2} {g}_{\\mu \\nu} {R} = 8 \\pi {T}_{\\mu \\nu}\n",
    "$$\n",
    "$$\n",
    "{ R }_{\\mu \\nu}\\left[\\bm{g}\\right]\n",
    "$$\n",
    "$$\n",
    "{R}\\left[\\bm{g}\\right]\n",
    "$$\n",
    "$$\n",
    "{T}_{\\mu \\nu}\n",
    "$$"
   ]
  },
  {
   "cell_type": "markdown",
   "id": "2f9f901c",
   "metadata": {},
   "source": [
    "### Linearisierung\n",
    "$g_{\\mu \\nu} = \\eta_{\\mu \\nu} + h_{\\mu \\nu}$, $\\bm{h} \\ll \\bm{\\eta}$, $\\tau \\approx t$, $\\frac{\\partial h_{\\mu \\nu}}{\\partial t} = 0$\n",
    "\n",
    "$\\vec{E}=\\frac{1}{2}\\vec{\\nabla} h_{00}$, $B_j=-\\varepsilon_{jlm}\\frac{\\partial h_{0m}}{\\partial x^l}$\n",
    "#### Geod. Gl.\n",
    "$$\n",
    "\\frac{\\mathrm{d}^2 {x}^{\\lambda}}{\\mathrm{d} \\tau^2} = -\\Gamma^{\\lambda}_{\\mu \\nu}[\\bm{g}(\\vec{ x })] \\frac{\\mathrm{d} {x}^{\\mu}}{\\mathrm{d} \\tau} \\frac{\\mathrm{d} {x}^{\\nu}}{\\mathrm{d} \\tau}\n",
    "$$\n",
    "$$\n",
    "\\frac{d^2 {x}^{i}}{{dt}^2} = \\frac{1}{2}\\frac{\\partial {h}_{00}}{\\partial {x}^i} + \\varepsilon_{ijk}\\varepsilon_{jlm}\\frac{\\partial {h}_{0m}}{\\partial {x}^l}\\frac{d {x}^k}{dt}\n",
    "$$\n",
    "$$\n",
    "\\vec{ F } = {m} \\left( \\vec{ E } + \\vec{ v }\\times\\vec{ B } \\right)\n",
    "$$\n",
    "#### EFE\n",
    "$$\n",
    "{ R }_{\\mu \\nu} - \\frac{1}{2} {g}_{\\mu \\nu} {R} = 8 \\pi {T}_{\\mu \\nu}\n",
    "$$\n",
    "$-\\Delta h_{00} = 8\\pi\\rho$, $-\\Delta h_{0i} = 8\\pi j_i$\n",
    "$$\n",
    "\\vec{\\nabla}\\cdot\\vec{E} = - 4 \\pi \\rho\n",
    "\\\\\n",
    "\\vec{\\nabla}\\cdot\\vec{B} = 0\n",
    "\\\\\n",
    "\\vec{\\nabla}\\times\\vec{E} = 0\n",
    "\\\\\n",
    "\\vec{\\nabla}\\times\\vec{B} = -8 \\pi \\vec{j}\n",
    "$$"
   ]
  },
  {
   "cell_type": "markdown",
   "id": "b10d3048",
   "metadata": {},
   "source": [
    "### Rotierende Kugelmasse\n",
    "$$\n",
    "\\rho(|\\vec{x}|) = \\rho_0 \\Theta(R-|\\vec{x}|)\n",
    "$$\n",
    "$$\n",
    "\\vec{j} = \\rho_0 \\vec{\\omega}\\times\\vec{x}\\Theta(R-|\\vec{x}|)\n",
    "$$\n",
    "$$\n",
    "\\vec{E} = -\\frac{M \\vec{x}}{|\\vec{x}|^3}\n",
    "$$\n",
    "$$\n",
    "\\vec{B} = \\frac{1}{|\\vec{x}|^3} \\left[\\vec{S} - \\frac{3 (\\vec{S}\\cdot\\vec{x}) \\vec{x}}{|\\vec{x}|^2}\\right]\n",
    "$$\n",
    "$$\n",
    "I = \\frac{2}{5} M R^2\n",
    "$$\n",
    "$$\n",
    "\\vec{S} = I \\vec{\\omega}\n",
    "$$"
   ]
  }
 ],
 "metadata": {
  "kernelspec": {
   "display_name": "Python 3",
   "language": "python",
   "name": "python3"
  },
  "language_info": {
   "codemirror_mode": {
    "name": "ipython",
    "version": 3
   },
   "file_extension": ".py",
   "mimetype": "text/x-python",
   "name": "python",
   "nbconvert_exporter": "python",
   "pygments_lexer": "ipython3",
   "version": "3.10.12"
  }
 },
 "nbformat": 4,
 "nbformat_minor": 5
}
