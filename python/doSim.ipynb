{
 "cells": [
  {
   "cell_type": "markdown",
   "metadata": {},
   "source": [
    "$$\n",
    "\\frac{d \\vec{v}}{dt} = \\frac{1}{r^3} \\left[-M \\vec{r} + \\vec{v}\\times\\vec{S} - \\frac{3 (\\vec{S}\\cdot\\vec{r})}{r^2} \\vec{v}\\times\\vec{r}\\right]\n",
    "$$"
   ]
  },
  {
   "cell_type": "code",
   "execution_count": 1,
   "metadata": {},
   "outputs": [],
   "source": [
    "import numpy as np\n",
    "import matplotlib.pyplot as plt\n",
    "from matplotlib.widgets import Slider\n",
    "import scipy.integrate as spint\n",
    "import scipy.interpolate as spinter\n",
    "from multiprocessing import Process, shared_memory, cpu_count\n",
    "import lense_thirring_tools as ltt"
   ]
  },
  {
   "cell_type": "markdown",
   "metadata": {},
   "source": [
    "# setup grid and simulation params for spacetime sim"
   ]
  },
  {
   "cell_type": "code",
   "execution_count": 12,
   "metadata": {},
   "outputs": [],
   "source": [
    "num_threads = cpu_count()\n",
    "coll_name = \"lt2d\"\n",
    "setup = {\n",
    "    \"spawn_pos\": [3, 0, 0],\n",
    "    \"spawn_vel\": [0, 0, 0],\n",
    "    \"grid_size\": [4, 2, 0],\n",
    "    \"num_lines\": [13, 7, 1],\n",
    "    \"subdivisions\": 100,\n",
    "    \"simplified_subd\" : 100,\n",
    "    \"tau_max\": 9.0,\n",
    "    \"tau_evals\": 180,\n",
    "    \"error\": 1e-7,\n",
    "    \"M\": 1.0,\n",
    "    \"R\": 1.0,\n",
    "    \"omega\": 1.0,#1e1*np.pi,\n",
    "}\n",
    "\n",
    "def f(x):\n",
    "    #std = 0.8\n",
    "    #return 0.2*(np.exp(-((x+2.6)/std)**2) + 10*np.exp(-np.abs((x)/0.06)) + np.exp(-((x-2.6)/std)**2)) + 0.024\n",
    "    return 1.0\n",
    "\n",
    "def get_geodesic(tau_max, z0, t_evals, tol=1e-6):\n",
    "    taus,zs = ltt.get_geodesic(tau_max=tau_max,z0=z0,tol=tol,accF=ltt.acc_lense_thirring,check_break=ltt.check_break)\n",
    "    zs = zs.T\n",
    "    intf = spinter.interp1d(taus, zs, fill_value=(\n",
    "        zs[:, 0], zs[:, -1]), bounds_error=False)\n",
    "    return intf(t_evals)"
   ]
  },
  {
   "cell_type": "markdown",
   "metadata": {},
   "source": [
    "# calculate trajectories"
   ]
  },
  {
   "cell_type": "code",
   "execution_count": 13,
   "metadata": {},
   "outputs": [
    {
     "name": "stdout",
     "output_type": "stream",
     "text": [
      "using gridlines: (20, 100, 3)\n",
      "simulating...\n"
     ]
    }
   ],
   "source": [
    "M = setup[\"M\"]\n",
    "R = setup[\"R\"]\n",
    "omega = setup[\"omega\"]\n",
    "S = 2.0/5.0 * M * R**2 * setup[\"omega\"]\n",
    "ltt.set_params_lense_thirring(mass=M, omega=omega, radius=R)\n",
    "\n",
    "lines = ltt.generate_3d_grid_lines(np.array(setup[\"spawn_pos\"])-np.array(setup[\"grid_size\"])/2, np.array(\n",
    "    setup[\"spawn_pos\"])+np.array(setup[\"grid_size\"])/2, setup[\"num_lines\"], setup[\"subdivisions\"], f)\n",
    "print(f\"using gridlines: {lines.shape}\")\n",
    "print(\"simulating...\")\n",
    "\n",
    "taus = np.linspace(0, setup[\"tau_max\"], setup[\"tau_evals\"])\n",
    "line_ev = np.empty((len(lines), len(taus), len(lines[0]), 3), np.float64)\n",
    "\n",
    "def simulate_lines(lis, shmn):\n",
    "    global setup, taus, lines\n",
    "    existing_shm = shared_memory.SharedMemory(name=shmn)\n",
    "    line_ev = np.ndarray((len(lines), len(taus), len(\n",
    "        lines[0]), 3), dtype=np.float64, buffer=existing_shm.buf)\n",
    "    for li in lis:\n",
    "        for pi, pnt in enumerate(lines[li]):\n",
    "            z0 = np.array([0, pnt[0], pnt[1], pnt[2], 1, setup[\"spawn_vel\"]\n",
    "                           [0], setup[\"spawn_vel\"][1], setup[\"spawn_vel\"][2]])\n",
    "            zs = get_geodesic(setup[\"tau_max\"], z0, taus, setup[\"error\"])\n",
    "            line_ev[li, :, pi, :] = zs[1:4].T\n",
    "\n",
    "\n",
    "shm = shared_memory.SharedMemory(create=True, size=line_ev.nbytes)\n",
    "sh_lines = np.ndarray(line_ev.shape, dtype=line_ev.dtype, buffer=shm.buf)\n",
    "sh_lines[:, :, :, :] = np.zeros_like(line_ev)\n",
    "\n",
    "ts = []\n",
    "for thread_i in range(num_threads):\n",
    "    lis = np.arange(thread_i, len(lines), num_threads)\n",
    "    ts.append(Process(target=simulate_lines, args=[lis, shm.name]))\n",
    "    ts[-1].start()\n",
    "\n",
    "for t in ts:\n",
    "    t.join()"
   ]
  },
  {
   "cell_type": "markdown",
   "metadata": {},
   "source": [
    "# simplify and save lines"
   ]
  },
  {
   "cell_type": "code",
   "execution_count": 14,
   "metadata": {},
   "outputs": [],
   "source": [
    "def simplify_line(l0,subd):\n",
    "    bl0 = np.append([0], np.sqrt(np.sum((l0[1:]-l0[:-1])**2,axis=1)),axis=0)\n",
    "    bl0 = np.cumsum(bl0)\n",
    "    ifunc = spinter.interp1d(bl0, l0.T, fill_value=(\n",
    "        l0[0, :], l0[-1, :]), bounds_error=False)\n",
    "    return ifunc(np.linspace(bl0[0],bl0[-1],subd)).T"
   ]
  },
  {
   "cell_type": "code",
   "execution_count": 15,
   "metadata": {},
   "outputs": [
    {
     "name": "stdout",
     "output_type": "stream",
     "text": [
      "lines:((20, 180, 100, 3)), timesteps=180, line_nums=20, subdivisions=100\n"
     ]
    }
   ],
   "source": [
    "timesteps = sh_lines.shape[1]\n",
    "line_nums = sh_lines.shape[0]\n",
    "\n",
    "lines = np.empty((line_nums, timesteps, setup[\"simplified_subd\"],3))\n",
    "for li in range(line_nums):\n",
    "    for ti in range(timesteps):\n",
    "        lines[li,ti,:,:] = simplify_line(sh_lines[li,ti,:,:],setup[\"simplified_subd\"])\n",
    "\n",
    "subdivisions = lines.shape[2]\n",
    "print(f\"lines:({lines.shape}), timesteps={timesteps}, line_nums={line_nums}, subdivisions={subdivisions}\")"
   ]
  },
  {
   "cell_type": "code",
   "execution_count": 17,
   "metadata": {},
   "outputs": [],
   "source": [
    "np.save(f'./assets/spacetime_sims/{coll_name}_lines__line_nums={line_nums}__subdivisions={subdivisions}__timesteps={timesteps}__tau_max={setup[\"tau_max\"]}__R={setup[\"R\"]}__M={setup[\"M\"]}__omega={setup[\"omega\"]}.npy', lines)"
   ]
  },
  {
   "cell_type": "markdown",
   "metadata": {},
   "source": [
    "# (optional) load lines"
   ]
  },
  {
   "cell_type": "code",
   "execution_count": null,
   "metadata": {},
   "outputs": [],
   "source": [
    "lines = np.load(f'./assets/spacetime_sims/{coll_name}_lines__line_nums={108}__subdivisions={150}__timesteps={200}__tau_max={10.0}__R={1.0}__M={1.0}__omega={31.41592653589793}.npy')\n",
    "taus = np.linspace(0, 10, 200)"
   ]
  },
  {
   "cell_type": "markdown",
   "metadata": {},
   "source": [
    "# plot lines"
   ]
  },
  {
   "cell_type": "code",
   "execution_count": 16,
   "metadata": {},
   "outputs": [],
   "source": [
    "%matplotlib qt\n",
    "\n",
    "fig = plt.figure()\n",
    "ax = fig.add_subplot(projection='3d')\n",
    "\n",
    "fig.subplots_adjust(bottom=0.25)\n",
    "\n",
    "ax.set_aspect('equal')\n",
    "lim = 6\n",
    "ax.set(xlim=[-lim,lim], ylim=[-lim,lim], zlim3d=[-lim,lim], xlabel=r'x', ylabel=r'y')\n",
    "ax.view_init(elev=10., azim=(-100))\n",
    "\n",
    "line_objs = []\n",
    "for line in lines[:,0,:,:]:\n",
    "    pnts = line.T\n",
    "    [line_obj] = ax.plot(pnts[0],pnts[1],pnts[2],color=\"k\",zorder=10)\n",
    "    line_objs.append(line_obj)\n",
    "\n",
    "tau_slider_ax  = fig.add_axes([0.25, 0.15, 0.65, 0.03])\n",
    "tau_slider = Slider(tau_slider_ax, 'tau idx', 0, len(taus)-1, valstep=1, valinit=0)\n",
    "\n",
    "angle_slider_ax = fig.add_axes([0.25, 0.1, 0.65, 0.03])\n",
    "angle_slider = Slider(angle_slider_ax, 'angle', 0, 360, valinit=0)\n",
    "\n",
    "def tau_on_changed(val):\n",
    "    tau_idx = tau_slider.val\n",
    "    tau = taus[tau_idx]\n",
    "    fig.suptitle(rf'$\\tau={tau:0.2f}$')\n",
    "    for li,line in enumerate(lines[:,tau_idx,:,:]):\n",
    "        line_objs[li].set_data_3d(lines[li,tau_idx,:,:].T)\n",
    "    fig.canvas.draw_idle()\n",
    "def angle_on_changed(val):\n",
    "    angle = angle_slider.val\n",
    "    ax.view_init(elev=10., azim=(-angle-100))\n",
    "    fig.canvas.draw_idle()\n",
    "tau_slider.on_changed(tau_on_changed)\n",
    "angle_slider.on_changed(angle_on_changed)\n",
    "\n",
    "plt.show()"
   ]
  },
  {
   "cell_type": "markdown",
   "metadata": {},
   "source": [
    "# calculate and plot a single Trajectory"
   ]
  },
  {
   "cell_type": "code",
   "execution_count": null,
   "metadata": {},
   "outputs": [],
   "source": [
    "ltt.set_params_lense_thirring(mass=0.22,omega=0.15,radius=1)"
   ]
  },
  {
   "cell_type": "code",
   "execution_count": null,
   "metadata": {},
   "outputs": [],
   "source": [
    "ltt.S = 0"
   ]
  },
  {
   "cell_type": "code",
   "execution_count": null,
   "metadata": {},
   "outputs": [],
   "source": [
    "%matplotlib qt\n",
    "z0 = np.array([0,2,1e-2,0,1,-8e-1,0,0])\n",
    "ts,ps = ltt.get_geodesic(40,z0,tol=1e-10,check_break=None)\n",
    "trajs = [ps[:,1:4]]\n",
    "\n",
    "fig = plt.figure()\n",
    "ax = fig.add_subplot(projection='3d')\n",
    "fig.subplots_adjust(bottom=0.25)\n",
    "ax.set_aspect('equal')\n",
    "lim = 2\n",
    "c = [0,0,0]\n",
    "ax.set(xlim=[-lim+c[0],lim+c[0]], ylim=[-lim+c[1],lim+c[1]], zlim3d=[-lim+c[2],lim+c[2]], xlabel=r'x', ylabel=r'y')\n",
    "ax.view_init(elev=90., azim=(-90))\n",
    "\n",
    "def draw_sphere(phase=0.0, radius=1.0):\n",
    "    u, v = np.mgrid[0:2*np.pi:14j, 0:np.pi:7j]\n",
    "    x = radius*np.cos(u+phase)*np.sin(v)\n",
    "    y = radius*np.sin(u+phase)*np.sin(v)\n",
    "    z = radius*np.cos(v)\n",
    "    return ax.plot_surface(x, y, z, color=\"red\", zorder=-10)\n",
    "\n",
    "#sphere = draw_sphere(0,1)\n",
    "for ps in trajs:\n",
    "    ax.plot(ps[:,0],ps[:,1],ps[:,2],marker=\".\")\n",
    "plt.show()"
   ]
  },
  {
   "cell_type": "markdown",
   "metadata": {},
   "source": [
    "# compute t(l) and x(l) from a set of ts & xs"
   ]
  },
  {
   "cell_type": "code",
   "execution_count": null,
   "metadata": {},
   "outputs": [],
   "source": [
    "class ParametricCurve:\n",
    "    \"\"\"\n",
    "    Class to handle operations on a parametrized curve\n",
    "    \"\"\"\n",
    "\n",
    "    def __init__(self, ts, xs=None, xf=None, init_nat_param=True):\n",
    "        self.ts = ts\n",
    "        self.tmax = np.max(ts)\n",
    "        self.tmin = np.min(ts)\n",
    "        if xf is not None:\n",
    "            self.xs = xf(ts)\n",
    "        elif xs is not None:\n",
    "            self.xs = xs\n",
    "        else:\n",
    "            raise Exception(\"either xs or xf has to be given\")\n",
    "        if init_nat_param:\n",
    "            self.init_natural_parametrization()\n",
    "    \n",
    "    def init_natural_parametrization(self):\n",
    "        l = np.append([0], np.sqrt(np.sum((self.xs[1:]-self.xs[:-1])**2,axis=1)),axis=0)\n",
    "        l = np.cumsum(l)\n",
    "        self.length = np.max(l)\n",
    "        self.l_of_t = spinter.interp1d(self.ts, l, fill_value=(\n",
    "            l[0], l[-1]), bounds_error=False, axis=0)\n",
    "        self.t_of_l = spinter.interp1d(l, self.ts, fill_value=(\n",
    "            self.ts[0], self.ts[-1]), bounds_error=False, axis=0)\n",
    "        self.x_of_l = spinter.interp1d(l, self.xs, fill_value=(\n",
    "            self.xs[0], self.xs[-1]), bounds_error=False, axis=0)\n",
    "        #self.x_of_t = spinter.interp1d(self.ts, self.xs, fill_value=(\n",
    "        #    self.xs[0], self.xs[-1]), bounds_error=False, axis=0)\n",
    "        vs = np.gradient(l, self.ts)\n",
    "        self.vmax = np.max(vs)\n",
    "        self.vmin = np.min(vs)\n",
    "        self.v_of_l = spinter.interp1d(l, vs, fill_value=(\n",
    "            vs[0], vs[-1]), bounds_error=False, axis=0)\n",
    "    \n",
    "    def get_section_by_l(self, lstart, lend, seg_size=None):\n",
    "        \"\"\"\n",
    "        returns an array of equally spaced l values from lstart to lend with approx segment size of seg_size\n",
    "        \"\"\"\n",
    "        if seg_size is None:\n",
    "            seg_size = self.length/100\n",
    "        return np.linspace(lstart, lend, int((lend-lstart)/seg_size))\n",
    "    \n",
    "    def get_section_by_t(self, tstart, tend, seg_size=None):\n",
    "        \"\"\"\n",
    "        returns an array of equally spaced l values corresponding to values from tstart to tend with approx segment size of seg_size\n",
    "        \"\"\"\n",
    "        return self.get_section_by_l(self.l_of_t(tstart), self.l_of_t(tend), seg_size=seg_size)"
   ]
  },
  {
   "cell_type": "code",
   "execution_count": null,
   "metadata": {},
   "outputs": [],
   "source": [
    "ts = np.linspace(0,1,100)\n",
    "ts = 2*np.pi*ts**4 - np.pi\n",
    "xs = np.array([[np.sin(t), np.cos(t), t**3] for t in ts])\n",
    "\n",
    "c = ParametricCurve(ts, xs=xs)\n",
    "lev = c.get_section_by_t(-1, np.pi, 0.1)\n",
    "tev = c.t_of_l(lev)\n",
    "xev = c.x_of_l(lev)\n",
    "vev = c.v_of_l(lev)"
   ]
  },
  {
   "cell_type": "code",
   "execution_count": null,
   "metadata": {},
   "outputs": [],
   "source": [
    "%matplotlib qt\n",
    "ps = xev\n",
    "\n",
    "fig = plt.figure()\n",
    "ax = fig.add_subplot(projection='3d')\n",
    "\n",
    "fig.subplots_adjust(bottom=0.25)\n",
    "\n",
    "ax.set_aspect('equal')\n",
    "lim = 2\n",
    "ax.set(xlim=[-lim,lim], ylim=[-lim,lim], zlim3d=[-lim,lim], xlabel=r'x', ylabel=r'y')\n",
    "ax.view_init(elev=10., azim=(-100))\n",
    "\n",
    "ax.scatter(ps[:,0],ps[:,1],ps[:,2],marker=\".\",c=vev,cmap=\"viridis\")\n",
    "plt.show()"
   ]
  },
  {
   "cell_type": "code",
   "execution_count": null,
   "metadata": {},
   "outputs": [],
   "source": [
    "class StreamLines(VGroup):\n",
    "    \"\"\"\n",
    "    startPos is a (N,D) array, where N is the number of streamlines and D is the number of dimensions (e.g.: 3)\n",
    "    fieldFunc is the function f(t,x)->dx/dt where x is of dimension D\n",
    "    \"\"\"\n",
    "    def __init__(self,\n",
    "                 startPos,\n",
    "                 fieldFunc,\n",
    "                 t_max,\n",
    "                 tN=200,\n",
    "                 tol=1e-5,\n",
    "                 showRatio=0.2,\n",
    "                 showSegments=2,\n",
    "                 scaleF=1.0,\n",
    "                 cmap=\"viridis\",\n",
    "                 cfunc=lambda x,r: r,\n",
    "                 depth_test=True,\n",
    "                 rand_init_t=True):\n",
    "        self.startPos = startPos\n",
    "        self.fieldFunc = fieldFunc\n",
    "        self.t_max = t_max\n",
    "        self.rtol = tol\n",
    "        self.atol = tol*1e-2\n",
    "        self.tN = tN\n",
    "        self.showN = int(tN*showRatio)\n",
    "        self.streamlineNum = startPos.shape[0]\n",
    "        self.scaleF = scaleF\n",
    "        self.cmap = get_color_map(cmap)\n",
    "        self.currentT = 0.0\n",
    "        self.showSegments = showSegments\n",
    "        self.cfunc = cfunc\n",
    "        if rand_init_t:\n",
    "            self.dt_rand = np.random.uniform(size=(self.streamlineNum))\n",
    "        else:\n",
    "            self.dt_rand = np.zeros((self.streamlineNum))\n",
    "        #super().__init__()\n",
    "        super().__init__([VGroup([VMobject() for j in range(self.showSegments)]) for i in range(self.streamlineNum)])\n",
    "        if depth_test:\n",
    "            self.apply_depth_test(recurse=True)\n",
    "    \n",
    "    def startUpdating(self, timeScaleF=1.0):\n",
    "        self.currentT = 0.0\n",
    "        def updater(obj,dt):\n",
    "            nonlocal timeScaleF\n",
    "            obj.currentT += dt*timeScaleF\n",
    "            obj.updateVMobjs(obj.currentT)\n",
    "        self.add_updater(updater,call=True)\n",
    "    \n",
    "    def stopUpdating(self):\n",
    "        self.clear_updaters()\n",
    "\n",
    "    def updateVMobjs(self, t, fadeIn=True,fadeOut=True):\n",
    "        startTs, endTs = self.getSegmentBoundsAtTime(t,fadeIn=fadeIn,fadeOut=fadeOut)\n",
    "\n",
    "        for li in range(self.streamlineNum):\n",
    "            for si in range(self.showSegments):\n",
    "                if endTs[li][si]-startTs[li][si] >= 2:\n",
    "                    self[li][si].set_points_as_corners(self.lines[li,startTs[li][si]:endTs[li][si],:]*self.scaleF)\n",
    "                    self[li][si].set_stroke(color=self.pnt_cols[li][startTs[li][si]:endTs[li][si]])\n",
    "                else:\n",
    "                    self[li][si].set_points_as_corners([])\n",
    "  \n",
    "    def getSegmentBoundsAtTime(self,t,fadeIn=True,fadeOut=True):\n",
    "        fI = 0\n",
    "        fO = 0\n",
    "        if fadeIn:\n",
    "            fI = self.showN\n",
    "        if fadeOut:\n",
    "            fO = self.showN\n",
    "        startTs = [[int((self.tN-1+fI-self.showN+fO)*((t/self.t_max+di/self.showSegments + dt)%1.0))-fI for di in np.arange(0,self.showSegments,1)] for dt in self.dt_rand]\n",
    "        endTs = [[startT+self.showN for startT in startTs[li]] for li in range(self.streamlineNum)]\n",
    "        return np.clip(startTs, 0, self.tN-1), np.clip(endTs, 0, self.tN-1)\n",
    "\n",
    "    def computeLines(self):\n",
    "        t_evals = np.linspace(0,self.t_max,self.tN)\n",
    "        self.lines = np.empty((self.startPos.shape[0],self.tN,self.startPos.shape[1]))\n",
    "        self.cvals = np.empty((self.startPos.shape[0],self.tN))\n",
    "        self.pnt_cols = []\n",
    "\n",
    "        for i in range(len(self.startPos)):\n",
    "            rkdp = spint.RK45(self.fieldFunc, 0.0, self.startPos[i], self.t_max, first_step=self.rtol*1e-2,rtol=self.rtol,atol=self.atol)\n",
    "            ts = [0.0]\n",
    "            zs = [rkdp.y]\n",
    "            while rkdp.t < self.t_max:\n",
    "                rkdp.step()\n",
    "                ts.append(rkdp.t)\n",
    "                zs.append(rkdp.y)\n",
    "                if rkdp.status != \"running\" or all(zs[-1] == zs[-2]):\n",
    "                    break\n",
    "            zs = np.array(zs).T\n",
    "            intf = spinter.interp1d(ts, zs, fill_value=(zs[:,0],zs[:,-1]), bounds_error=False)\n",
    "            self.lines[i,:,:] = intf(t_evals).T\n",
    "            fv = np.sqrt(np.sum((self.lines[i,1:,:]-self.lines[i,:-1,:])**2, axis=1))\n",
    "            self.cvals[i,:] = np.append(fv,[fv[-1]],axis=0)\n",
    "\n",
    "        self.cvals = self.cfunc(self.lines, self.cvals)\n",
    "        self.cvals -= np.min(self.cvals)\n",
    "        self.cvals /= np.max(self.cvals)\n",
    "\n",
    "        for i in range(self.streamlineNum):\n",
    "            cols = [rgba_to_color(col) for col in self.cmap(self.cvals[i])]\n",
    "            cols.append(cols[-1])\n",
    "            self.pnt_cols.append(cols)"
   ]
  },
  {
   "cell_type": "code",
   "execution_count": null,
   "metadata": {},
   "outputs": [],
   "source": [
    "import time"
   ]
  },
  {
   "cell_type": "code",
   "execution_count": null,
   "metadata": {},
   "outputs": [],
   "source": [
    "xs,ys,zs = np.linspace(-3,3,10), np.linspace(-3,3,10), np.linspace(-3,3,3)\n",
    "pnts = np.array([[x,y,z] for x in xs for y in ys for z in zs])\n",
    "field = lambda t, x: np.array([x[1]**2,1,1])\n",
    "boundary = np.array([[-3,-3,-3],[3,3,3]])\n",
    "tol = 1e-8\n",
    "recurring_tol = 1e-1\n",
    "trunmax = 0.1\n",
    "\n",
    "for sp in pnts:\n",
    "    rkdp = spint.DOP853(field, 0.0, sp, np.Inf, max_step=1e-1)\n",
    "    ts = [0.0]\n",
    "    rs = [rkdp.y]\n",
    "    check_recurring= False\n",
    "    trun0 = time.time()\n",
    "    while time.time()-trun0 < trunmax:\n",
    "        rkdp.step()\n",
    "        if rkdp.h_abs > 1e10:\n",
    "            rkdp.status = f\"h_abs too large: {rkdp.h_abs}\"\n",
    "        if any(np.logical_or(rkdp.y < boundary[0], rkdp.y > boundary[1])):\n",
    "            rkdp.status = \"out of bounds\"\n",
    "        dis = np.sum((np.array(rs[0]) - rkdp.y)**2)\n",
    "        if check_recurring and dis < recurring_tol**2:\n",
    "            rkdp.status = \"returned to start point\"\n",
    "        if dis > recurring_tol**2:\n",
    "            check_recurring = True\n",
    "        ts.append(rkdp.t)\n",
    "        rs.append(rkdp.y)\n",
    "        if rkdp.status != \"running\":\n",
    "            break\n",
    "    ts = np.array(ts)\n",
    "    rs = np.array(rs)\n",
    "    plt.plot(rs[:,0],rs[:,1],marker=\"x\")\n",
    "    print(\">\",end=\"\")\n",
    "plt.show()"
   ]
  },
  {
   "cell_type": "code",
   "execution_count": null,
   "metadata": {},
   "outputs": [],
   "source": []
  }
 ],
 "metadata": {
  "kernelspec": {
   "display_name": "Python 3",
   "language": "python",
   "name": "python3"
  },
  "language_info": {
   "codemirror_mode": {
    "name": "ipython",
    "version": 3
   },
   "file_extension": ".py",
   "mimetype": "text/x-python",
   "name": "python",
   "nbconvert_exporter": "python",
   "pygments_lexer": "ipython3",
   "version": "3.10.12"
  }
 },
 "nbformat": 4,
 "nbformat_minor": 2
}
