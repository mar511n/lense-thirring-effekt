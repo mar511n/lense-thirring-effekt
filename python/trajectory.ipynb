{
 "cells": [
  {
   "cell_type": "code",
   "execution_count": 1,
   "id": "bbf162cf",
   "metadata": {},
   "outputs": [],
   "source": [
    "import numpy as np\n",
    "import matplotlib.pyplot as plt\n",
    "from matplotlib.widgets import Slider\n",
    "import lense_thirring_tools as ltt"
   ]
  },
  {
   "cell_type": "code",
   "execution_count": 2,
   "id": "2561c168",
   "metadata": {},
   "outputs": [],
   "source": [
    "def get_trajectory(R=1,M=1,omega=1.0,cputmax=0.2,tmax=np.Inf,x0=[3,0,0],v0=[0,0,0],xmin=[-3,-3,-3],xmax=[3,3,3],recurring_tol=1e-14,tol=1e-5):\n",
    "    boundary = np.array([[-0.1,xmin[0],xmin[1],xmin[2],-np.Inf,-np.Inf,-np.Inf,-np.Inf],[np.Inf,xmax[0],xmax[1],xmax[2],np.Inf,np.Inf,np.Inf,np.Inf]])\n",
    "    S = 2.0/5.0 * M * R**2 * omega\n",
    "    ltt.set_params_lense_thirring(mass=M, omega=omega, radius=R)\n",
    "    z0 = np.array([0.0,x0[0],x0[1],x0[2],1.0,v0[0],v0[1],v0[2]])\n",
    "    ts, ps, status = ltt.get_geodesic2(ltt.acc_lense_thirring,z0,R,cputmax=cputmax,boundary=boundary,recurring_tol=recurring_tol,tmax=tmax,tol=tol)\n",
    "    if status != 'finished' and status != 'running' and status != 'out of bounds':\n",
    "        print(status)\n",
    "    return ltt.ParametricCurve(ts,ps[:,1:4])"
   ]
  },
  {
   "cell_type": "code",
   "execution_count": 5,
   "id": "4d458c2b",
   "metadata": {},
   "outputs": [
    {
     "name": "stderr",
     "output_type": "stream",
     "text": [
      "/tmp/ipykernel_41254/422154169.py:17: UserWarning: *c* argument looks like a single numeric RGB or RGBA sequence, which should be avoided as value-mapping will have precedence in case its length matches with *x* & *y*.  Please use the *color* keyword-argument or provide a 2D array with a single row if you intend to specify the same RGB or RGBA value for all points.\n",
      "  scat = ax.scatter(coords[0,cis],coords[1,cis],coords[2,cis],c=[0,0,0,1.0])\n"
     ]
    }
   ],
   "source": [
    "%matplotlib qt\n",
    "\n",
    "fig = plt.figure()\n",
    "ax = fig.add_subplot(projection='3d')\n",
    "fig.subplots_adjust(bottom=0.25)\n",
    "ax.set_aspect('equal')\n",
    "\n",
    "lim = 3\n",
    "cis = np.array([0,-1],dtype=int)\n",
    "ax.set(xlim=[-lim,lim], ylim=[-lim,lim], zlim3d=[-lim,lim], xlabel=r'x', ylabel=r'y')\n",
    "ax.view_init(elev=10., azim=(-100))\n",
    "\n",
    "pc = get_trajectory()\n",
    "ls = np.arange(0,pc.l_of_t(pc.tmax),5e-2)\n",
    "coords = np.array([pc.x_of_l(l) for l in ls]).T\n",
    "line_obj = ax.plot(coords[0],coords[1],coords[2],color=\"k\",zorder=10)\n",
    "scat = ax.scatter(coords[0,cis],coords[1,cis],coords[2,cis],c=[0,0,0,1.0])\n",
    "\n",
    "cputmax_slider_ax = fig.add_axes([0.05, 0.22, 0.9, 0.03])\n",
    "cputmax_slider = Slider(cputmax_slider_ax, 'cputime', 0, 5, valinit=0.1)\n",
    "tol_slider_ax = fig.add_axes([0.05, 0.20, 0.9, 0.03])\n",
    "tol_slider = Slider(tol_slider_ax, 'tol', -9, 0, valinit=-5)\n",
    "tau_slider_ax  = fig.add_axes([0.05, 0.18, 0.9, 0.03])\n",
    "tau_slider = Slider(tau_slider_ax, 'tau', 1e-6, 1.0, valstep=1e-3, valinit=1.0)\n",
    "angle_slider_ax = fig.add_axes([0.05, 0.16, 0.9, 0.03])\n",
    "angle_slider = Slider(angle_slider_ax, 'angle', 0, 360, valinit=0)\n",
    "x0x_slider_ax = fig.add_axes([0.05, 0.14, 0.9, 0.03])\n",
    "x0x_slider = Slider(x0x_slider_ax, 'x', -3, 3, valinit=3)\n",
    "x0y_slider_ax = fig.add_axes([0.05, 0.12, 0.9, 0.03])\n",
    "x0y_slider = Slider(x0y_slider_ax, 'y', -3, 3, valinit=0)\n",
    "x0z_slider_ax = fig.add_axes([0.05, 0.10, 0.9, 0.03])\n",
    "x0z_slider = Slider(x0z_slider_ax, 'z', -3, 3, valinit=0)\n",
    "v0x_slider_ax = fig.add_axes([0.05, 0.08, 0.9, 0.03])\n",
    "v0x_slider = Slider(v0x_slider_ax, 'vx', -1, 1, valinit=0)\n",
    "v0y_slider_ax = fig.add_axes([0.05, 0.06, 0.9, 0.03])\n",
    "v0y_slider = Slider(v0y_slider_ax, 'vy', -1, 1, valinit=0)\n",
    "v0z_slider_ax = fig.add_axes([0.05, 0.04, 0.9, 0.03])\n",
    "v0z_slider = Slider(v0z_slider_ax, 'vz', -1, 1, valinit=0)\n",
    "omega_slider_ax = fig.add_axes([0.05, 0.02, 0.9, 0.03])\n",
    "omega_slider = Slider(omega_slider_ax, 'omega', 0, 3, valinit=1)\n",
    "\n",
    "def tau_on_changed(val):\n",
    "    global pc\n",
    "    tau = tau_slider.val*pc.tmax\n",
    "    fig.suptitle(rf'$\\tau={tau:0.2f}$')\n",
    "    if tau > pc.tmax:\n",
    "        tau = pc.tmax\n",
    "    ls = np.arange(0,pc.l_of_t(tau),5e-2)\n",
    "    coords = np.array([pc.x_of_l(l) for l in ls]).T\n",
    "    scat._offsets3d = coords[:,cis]\n",
    "    line_obj[0].set_data_3d(coords)\n",
    "    fig.canvas.draw_idle()\n",
    "def pc_on_change(val):\n",
    "    global pc\n",
    "    pc = get_trajectory(\n",
    "        x0=[x0x_slider.val,x0y_slider.val,x0z_slider.val],\n",
    "        v0=[v0x_slider.val,v0y_slider.val,v0z_slider.val],\n",
    "        omega=omega_slider.val,\n",
    "        cputmax=cputmax_slider.val,\n",
    "        tol=10**(tol_slider.val))\n",
    "    tau_on_changed(val)\n",
    "def angle_on_changed(val):\n",
    "    angle = angle_slider.val\n",
    "    ax.view_init(elev=10., azim=(-angle-100))\n",
    "    fig.canvas.draw_idle()\n",
    "\n",
    "tau_slider.on_changed(tau_on_changed)\n",
    "angle_slider.on_changed(angle_on_changed)\n",
    "x0x_slider.on_changed(pc_on_change)\n",
    "x0y_slider.on_changed(pc_on_change)\n",
    "x0z_slider.on_changed(pc_on_change)\n",
    "v0x_slider.on_changed(pc_on_change)\n",
    "v0y_slider.on_changed(pc_on_change)\n",
    "v0z_slider.on_changed(pc_on_change)\n",
    "omega_slider.on_changed(pc_on_change)\n",
    "cputmax_slider.on_changed(pc_on_change)\n",
    "tol_slider.on_changed(pc_on_change)\n",
    "\n",
    "plt.show()"
   ]
  },
  {
   "cell_type": "code",
   "execution_count": null,
   "id": "640ccbb7",
   "metadata": {},
   "outputs": [],
   "source": []
  }
 ],
 "metadata": {
  "kernelspec": {
   "display_name": "Python 3",
   "language": "python",
   "name": "python3"
  },
  "language_info": {
   "codemirror_mode": {
    "name": "ipython",
    "version": 3
   },
   "file_extension": ".py",
   "mimetype": "text/x-python",
   "name": "python",
   "nbconvert_exporter": "python",
   "pygments_lexer": "ipython3",
   "version": "3.10.12"
  }
 },
 "nbformat": 4,
 "nbformat_minor": 5
}
