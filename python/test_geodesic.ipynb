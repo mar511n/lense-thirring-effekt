{
 "cells": [
  {
   "cell_type": "code",
   "execution_count": 1,
   "id": "6ad5ec39",
   "metadata": {},
   "outputs": [],
   "source": [
    "import lense_thirring_tools as lt\n",
    "import numpy as np\n",
    "import matplotlib.pyplot as plt"
   ]
  },
  {
   "cell_type": "code",
   "execution_count": 3,
   "id": "f0390225",
   "metadata": {},
   "outputs": [
    {
     "name": "stdout",
     "output_type": "stream",
     "text": [
      "(14, 4)\n"
     ]
    },
    {
     "name": "stderr",
     "output_type": "stream",
     "text": [
      "/tmp/ipykernel_93727/896514818.py:15: UserWarning: FigureCanvasAgg is non-interactive, and thus cannot be shown\n",
      "  fig.show()\n"
     ]
    },
    {
     "data": {
      "image/png": "[encoded data removed]",
      "text/plain": [
       "<Figure size 640x480 with 1 Axes>"
      ]
     },
     "metadata": {},
     "output_type": "display_data"
    }
   ],
   "source": [
    "lt.set_params_gaußian_surface(1/np.sqrt(2),A=0.0)\n",
    "ts,zs = lt.get_geodesic(6, np.array([3,0.5,-1,0]),tol=1e-9,accF=lt.acc_gaußian_surface,check_break=lambda t,r: np.abs(r[0])>3 or np.abs(r[1])>3)\n",
    "print(zs.shape)\n",
    "\n",
    "N = 50\n",
    "x = np.linspace(-3.0, 3.0, N)\n",
    "y = np.linspace(-3.0, 3.0, N)\n",
    "X, Y = np.meshgrid(x, y)\n",
    "Z = lt.z_gaußian_surface(X,Y)\n",
    "\n",
    "fig,ax = plt.subplots(1,1)\n",
    "ax.plot(zs[:,0],zs[:,1],c='k')\n",
    "ax.contourf(X,Y,Z,100,cmap='viridis')\n",
    "ax.set_aspect(1)\n",
    "fig.show()"
   ]
  }
 ],
 "metadata": {
  "kernelspec": {
   "display_name": "Python 3",
   "language": "python",
   "name": "python3"
  },
  "language_info": {
   "codemirror_mode": {
    "name": "ipython",
    "version": 3
   },
   "file_extension": ".py",
   "mimetype": "text/x-python",
   "name": "python",
   "nbconvert_exporter": "python",
   "pygments_lexer": "ipython3",
   "version": "3.10.12"
  }
 },
 "nbformat": 4,
 "nbformat_minor": 5
}
