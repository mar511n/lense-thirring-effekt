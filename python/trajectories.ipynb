{
 "cells": [
  {
   "cell_type": "code",
   "execution_count": 1,
   "id": "40d118ce",
   "metadata": {},
   "outputs": [],
   "source": [
    "import numpy as np\n",
    "import matplotlib.pyplot as plt\n",
    "from matplotlib.widgets import Slider\n",
    "import scipy.integrate as spint\n",
    "import scipy.interpolate as spinter\n",
    "from multiprocessing import Process, shared_memory, cpu_count\n",
    "import lense_thirring_tools as ltt\n",
    "#from manim_tools import ParametricCurve"
   ]
  },
  {
   "cell_type": "code",
   "execution_count": 2,
   "id": "ecd16ada",
   "metadata": {},
   "outputs": [],
   "source": [
    "M = 1\n",
    "omega = 10.0\n",
    "R = 1\n",
    "S = 2.0/5.0 * M * R**2 * omega\n",
    "ltt.set_params_lense_thirring(mass=M, omega=omega, radius=R)"
   ]
  },
  {
   "cell_type": "code",
   "execution_count": null,
   "id": "1f3a1bf8",
   "metadata": {},
   "outputs": [
    {
     "name": "stdout",
     "output_type": "stream",
     "text": [
      "using startPoints: (1000, 3)\n"
     ]
    }
   ],
   "source": [
    "num_threads = 6\n",
    "Nps = 1000\n",
    "cputmax = 10\n",
    "tmax = 10.0\n",
    "timaxs = 10000\n",
    "startRegion = np.array([[2,-0.5,-0.5],[3,0.5,0.5]])\n",
    "boundary = np.array([[-0.1,-3,-3,-3,-np.Inf,-np.Inf,-np.Inf,-np.Inf],[np.Inf,3,3,3,np.Inf,np.Inf,np.Inf,np.Inf]])\n",
    "startPoints = np.random.random((Nps,3))*(startRegion[1]-startRegion[0]) + startRegion[0]\n",
    "print(f\"using startPoints: {startPoints.shape}\")\n",
    "\n",
    "# create array with np data and init ParametricCurve from that afterwards\n",
    "pnt_ev = np.empty((Nps,timaxs,4), dtype=np.float64)\n",
    "\n",
    "def simulate_lines(pis, shmn):\n",
    "    global Nps, cputmax, startPoints\n",
    "    existing_shm = shared_memory.SharedMemory(name=shmn)\n",
    "    pnt_ev = np.ndarray((Nps,timaxs,4), dtype=np.float64, buffer=existing_shm.buf)\n",
    "    for i,sp in enumerate(startPoints[pis]):\n",
    "        pi = pis[i]\n",
    "        z0 = np.array([0.0,sp[0],sp[1],sp[2],1.0,0,0,0])\n",
    "        ts, ps, status = ltt.get_geodesic2(ltt.acc_lense_thirring,z0,1.0,cputmax=cputmax,boundary=boundary,recurring_tol=1e-14,tmax=tmax)\n",
    "        if status != 'finished' and status != 'running':\n",
    "            print(status)\n",
    "        if len(ts) > timaxs-1:\n",
    "            print('array too large')\n",
    "            ts = ts[:timaxs-1]\n",
    "            ps = ps[:timaxs-1]\n",
    "        pnt_ev[pi,-1,0] = len(ts)\n",
    "        pnt_ev[pi,:len(ts),0] = ts\n",
    "        pnt_ev[pi,:len(ts),1:] = ps[:,1:4]\n",
    "\n",
    "shm = shared_memory.SharedMemory(create=True, size=pnt_ev.nbytes)\n",
    "pnt_ev = np.ndarray((Nps,timaxs,4), dtype=np.float64, buffer=shm.buf)\n",
    "\n",
    "ts = []\n",
    "for thread_i in range(num_threads):\n",
    "    pis = np.arange(thread_i, len(startPoints), num_threads)\n",
    "    ts.append(Process(target=simulate_lines, args=[pis, shm.name]))\n",
    "    ts[-1].start()\n",
    "\n",
    "for t in ts:\n",
    "    t.join()\n",
    "\n",
    "pcs = [ltt.ParametricCurve(ev[:int(ev[-1,0]),0],ev[:int(ev[-1,0]),1:]) for ev in pnt_ev]\n",
    "tmax = np.amax([pc.tmax for pc in pcs])"
   ]
  },
  {
   "cell_type": "code",
   "execution_count": 4,
   "id": "b0475845",
   "metadata": {},
   "outputs": [
    {
     "name": "stderr",
     "output_type": "stream",
     "text": [
      "/usr/local/lib/python3.10/dist-packages/scipy-1.13.0-py3.10-linux-x86_64.egg/scipy/interpolate/_interpolate.py:712: RuntimeWarning: invalid value encountered in divide\n",
      "  slope = (y_hi - y_lo) / (x_hi - x_lo)[:, None]\n",
      "/tmp/ipykernel_77504/2445353871.py:14: UserWarning: *c* argument looks like a single numeric RGB or RGBA sequence, which should be avoided as value-mapping will have precedence in case its length matches with *x* & *y*.  Please use the *color* keyword-argument or provide a 2D array with a single row if you intend to specify the same RGB or RGBA value for all points.\n",
      "  scat = ax.scatter(pnts[:,0],pnts[:,1],pnts[:,2],c=[0,0,0,0.2],depthshade=False)\n"
     ]
    }
   ],
   "source": [
    "%matplotlib qt\n",
    "\n",
    "fig = plt.figure()\n",
    "ax = fig.add_subplot(projection='3d')\n",
    "\n",
    "fig.subplots_adjust(bottom=0.25)\n",
    "\n",
    "ax.set_aspect('equal')\n",
    "lim = 3.5\n",
    "ax.set(xlim=[-lim,lim], ylim=[-lim,lim], zlim3d=[-lim,lim], xlabel=r'x', ylabel=r'y')\n",
    "ax.view_init(elev=10., azim=(-100))\n",
    "\n",
    "pnts = np.array([pc.x_of_l(pc.l_of_t(0.0)) for pc in pcs])\n",
    "scat = ax.scatter(pnts[:,0],pnts[:,1],pnts[:,2],c=[0,0,0,0.2],depthshade=False)\n",
    "\n",
    "tau_slider_ax  = fig.add_axes([0.25, 0.15, 0.65, 0.03])\n",
    "tau_slider = Slider(tau_slider_ax, 'tau idx', 0.0, tmax, valstep=tmax/100, valinit=0.0)\n",
    "\n",
    "angle_slider_ax = fig.add_axes([0.25, 0.1, 0.65, 0.03])\n",
    "angle_slider = Slider(angle_slider_ax, 'angle', 0, 360, valinit=0)\n",
    "\n",
    "def tau_on_changed(val):\n",
    "    tau = tau_slider.val\n",
    "    fig.suptitle(rf'$\\tau={tau:0.2f}$')\n",
    "    pnts = np.array([pc.x_of_l(pc.l_of_t(tau)) for pc in pcs])\n",
    "    scat._offsets3d = (pnts[:,0],pnts[:,1],pnts[:,2])\n",
    "    fig.canvas.draw_idle()\n",
    "def angle_on_changed(val):\n",
    "    angle = angle_slider.val\n",
    "    ax.view_init(elev=10., azim=(-angle-100))\n",
    "    fig.canvas.draw_idle()\n",
    "tau_slider.on_changed(tau_on_changed)\n",
    "angle_slider.on_changed(angle_on_changed)\n",
    "\n",
    "plt.show()"
   ]
  },
  {
   "cell_type": "code",
   "execution_count": null,
   "id": "14b3be73",
   "metadata": {},
   "outputs": [],
   "source": []
  }
 ],
 "metadata": {
  "kernelspec": {
   "display_name": "Python 3",
   "language": "python",
   "name": "python3"
  },
  "language_info": {
   "codemirror_mode": {
    "name": "ipython",
    "version": 3
   },
   "file_extension": ".py",
   "mimetype": "text/x-python",
   "name": "python",
   "nbconvert_exporter": "python",
   "pygments_lexer": "ipython3",
   "version": "3.10.12"
  }
 },
 "nbformat": 4,
 "nbformat_minor": 5
}
