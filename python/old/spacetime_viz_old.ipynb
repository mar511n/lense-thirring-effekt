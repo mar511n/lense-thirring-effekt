{
 "cells": [
  {
   "cell_type": "code",
   "execution_count": 11,
   "metadata": {},
   "outputs": [],
   "source": [
    "import os\n",
    "import json\n",
    "from tqdm import tqdm\n",
    "import numpy as np\n",
    "import matplotlib.pyplot as plt\n",
    "import scipy.integrate as spint\n",
    "import scipy.interpolate as spinter\n",
    "import matplotlib\n",
    "import matplotlib.animation as animation\n",
    "from matplotlib.widgets import Slider"
   ]
  },
  {
   "cell_type": "markdown",
   "metadata": {},
   "source": [
    "$$\n",
    "\\frac{d \\vec{v}}{dt} = \\frac{1}{r^3} \\left[-M \\vec{r} + \\vec{v}\\times\\vec{S} - \\frac{3 (\\vec{S}\\cdot\\vec{r})}{r^2} \\vec{v}\\times\\vec{r}\\right]\n",
    "$$"
   ]
  },
  {
   "cell_type": "code",
   "execution_count": 28,
   "metadata": {},
   "outputs": [],
   "source": [
    "pnts = np.linspace(-6,6,100)\n",
    "def contract_around_middle(pnts,pow):\n",
    "    rect = [np.min(pnts),np.max(pnts)-np.min(pnts)]\n",
    "    nps = 2*(pnts-rect[0])/rect[1] - 1\n",
    "    nps = np.sign(nps)*np.abs(nps)**pow\n",
    "    return (nps+1)/2*rect[1]+rect[0]\n",
    "\n",
    "pnts = contract_around_middle(pnts,3)\n",
    "plt.scatter(pnts,np.zeros_like(pnts),marker=\".\")\n",
    "plt.show()"
   ]
  },
  {
   "cell_type": "code",
   "execution_count": 29,
   "metadata": {},
   "outputs": [],
   "source": [
    "coord_names = [r'$t$',r'$x$',r'$y$',r'$z$',r'$\\frac{d t}{d \\tau}$',r'$\\frac{d x}{d \\tau}$',r'$\\frac{d y}{d \\tau}$',r'$\\frac{d z}{d \\tau}$']\n",
    "def acc_lense_thirring(tau, zs):\n",
    "    global S, M, R\n",
    "    a = np.zeros(8)\n",
    "    rs = zs[1:4]\n",
    "    vs = zs[5:]\n",
    "    r = np.sqrt(np.sum(rs*rs))\n",
    "    if r < R:\n",
    "        a[0] = 1\n",
    "        return a\n",
    "    a[:4] = zs[4:]\n",
    "    a[5:] -= M*rs\n",
    "    a[5:] += np.cross(vs,[0,0,S])\n",
    "    a[5:] -= 3*S*rs[2]/(r*r) * np.cross(vs,rs)\n",
    "    a[5:] /= r*r*r\n",
    "    return a"
   ]
  },
  {
   "cell_type": "code",
   "execution_count": 30,
   "metadata": {},
   "outputs": [],
   "source": [
    "def get_points_on_gridlines(fR, tR, N, count):\n",
    "    pnts = []\n",
    "    dr = (np.array(tR)-np.array(fR))/np.array(N)\n",
    "    ys = np.linspace(fR[1],tR[1],np.max(N)*count)\n",
    "    for xi in range(N[0]+1):\n",
    "        xs = np.ones(np.max(N)*count)*(fR[0]+xi*dr[0])\n",
    "        #pnts = np.append(pnts, [xs, ys], axis=1)\n",
    "        pnts.append(np.transpose([xs,ys]))\n",
    "    xs = np.linspace(fR[0],tR[0],np.max(N)*count)\n",
    "    for yi in range(N[1]+1):\n",
    "        ys = np.ones(np.max(N)*count)*(fR[1]+yi*dr[1])\n",
    "        #pnts = np.append(pnts, [xs, ys], axis=1)\n",
    "        pnts.append(np.transpose([xs,ys]))\n",
    "    return np.array(pnts)\n",
    "def get_points_on_cube_grid(fR,tR,N,count):\n",
    "    pnts = []\n",
    "    "
   ]
  },
  {
   "cell_type": "code",
   "execution_count": 31,
   "metadata": {},
   "outputs": [],
   "source": [
    "def generate_3d_grid_lines(start_point, end_point, num_lines, subdivisions):\n",
    "    \"\"\"\n",
    "    Generate lines on a 3D grid.\n",
    "\n",
    "    Parameters:\n",
    "    - start_point: A tuple (x0, y0, z0) representing the starting point of the grid.\n",
    "    - end_point: A tuple (x1, y1, z1) representing the ending point of the grid.\n",
    "    - num_lines: A tuple (nx, ny, nz) representing the number of lines in each direction.\n",
    "    - subdivisions: An integer representing the number of subdivisions per line.\n",
    "\n",
    "    Returns:\n",
    "    - lines: A list of lists, where each inner list contains the points of a specific line.\n",
    "    \"\"\"\n",
    "    # Unpack the start and end points\n",
    "    x0, y0, z0 = start_point\n",
    "    x1, y1, z1 = end_point\n",
    "    \n",
    "    # Unpack the number of lines in each direction\n",
    "    nx, ny, nz = num_lines\n",
    "    \n",
    "    # Generate the grid lines in each direction\n",
    "    x_lines = np.linspace(x0, x1, nx)\n",
    "    y_lines = np.linspace(y0, y1, ny)\n",
    "    z_lines = np.linspace(z0, z1, nz)\n",
    "    \n",
    "    # Generate the points on each line with the specified number of subdivisions\n",
    "    lines = []\n",
    "    \n",
    "    # Lines parallel to the yz-plane\n",
    "    for x in x_lines:\n",
    "        for y in y_lines:\n",
    "            z_points = contract_around_middle(np.linspace(z0, z1, subdivisions),3)\n",
    "            line = np.column_stack((np.full(subdivisions, x), np.full(subdivisions, y), z_points))\n",
    "            lines.append(line.tolist())\n",
    "    \n",
    "    # Lines parallel to the xz-plane\n",
    "    for x in x_lines:\n",
    "        for z in z_lines:\n",
    "            y_points = contract_around_middle(np.linspace(y0, y1, subdivisions),3)\n",
    "            line = np.column_stack((np.full(subdivisions, x), y_points, np.full(subdivisions, z)))\n",
    "            lines.append(line.tolist())\n",
    "    \n",
    "    # Lines parallel to the xy-plane\n",
    "    for y in y_lines:\n",
    "        for z in z_lines:\n",
    "            x_points = contract_around_middle(np.linspace(x0, x1, subdivisions),3)\n",
    "            line = np.column_stack((x_points, np.full(subdivisions, y), np.full(subdivisions, z)))\n",
    "            lines.append(line.tolist())\n",
    "    \n",
    "    return np.array(lines)\n"
   ]
  },
  {
   "cell_type": "code",
   "execution_count": 32,
   "metadata": {},
   "outputs": [],
   "source": [
    "def get_geodesic(tau_max, z0, t_evals, tol=1e-6):\n",
    "    rkdp = spint.RK45(acc_lense_thirring, 0.0, z0,tau_max,first_step=1e-8,rtol=tol,atol=tol*1e-2)\n",
    "    taus = [0.0]\n",
    "    zs = [rkdp.y]\n",
    "    while rkdp.y[0] < tau_max and rkdp.t < tau_max:\n",
    "        rkdp.step()\n",
    "        taus.append(rkdp.t)\n",
    "        zs.append(rkdp.y)\n",
    "        if rkdp.status != \"running\":\n",
    "            break\n",
    "    zs = np.array(zs).T\n",
    "    intf = spinter.interp1d(taus, zs, fill_value=(zs[:,0],zs[:,-1]), bounds_error=False)\n",
    "    return intf(t_evals)"
   ]
  },
  {
   "cell_type": "code",
   "execution_count": 37,
   "metadata": {},
   "outputs": [
    {
     "name": "stdout",
     "output_type": "stream",
     "text": [
      "{'spawn_pos': [0, 0, 0], 'grid_size': [12], 'spawn_vel': [0, 0, 0], 'num_lines': [6, 6, 6], 'subdivisions': 200, 'tau_max': 10.0, 'M': 1.0, 'R': 1.0, 'omega': 31.41592653589793}\n"
     ]
    }
   ],
   "source": [
    "all_setups = {}\n",
    "if os.path.isfile('all_setups.json'):\n",
    "    try:\n",
    "        with open('all_setups.json', 'r') as fp:\n",
    "            all_setups = json.load(fp)\n",
    "    except:\n",
    "        print(\"could not open all_setups.json\")\n",
    "\n",
    "setup = {\n",
    "    \"spawn_pos\" : [0,0,0],\n",
    "    \"grid_size\" : [12],\n",
    "    \"spawn_vel\" : [0,0,0],\n",
    "    \"num_lines\" : [6,6,6],\n",
    "    \"subdivisions\": 200,\n",
    "    \"tau_max\" : 10.0,\n",
    "    \"M\" : 1.0,\n",
    "    \"R\" : 1.0,\n",
    "    \"omega\" : 1e1*np.pi,\n",
    "}\n",
    "setupnum = 0.5\n",
    "save_setup = True\n",
    "#setup = all_setups[f\"setup {setupnum}\"]\n",
    "\n",
    "if save_setup:\n",
    "    all_setups[f\"setup {setupnum}\"] = setup\n",
    "    with open('all_setups.json', 'w') as fp:\n",
    "        json.dump(all_setups, fp)\n",
    "else:\n",
    "    setup = all_setups[f\"setup {setupnum}\"]\n",
    "print(setup)"
   ]
  },
  {
   "cell_type": "code",
   "execution_count": null,
   "metadata": {},
   "outputs": [
    {
     "name": "stdout",
     "output_type": "stream",
     "text": [
      "(108, 200, 3)\n"
     ]
    },
    {
     "name": "stderr",
     "output_type": "stream",
     "text": [
      "100%|██████████| 108/108 [05:56<00:00,  3.30s/it]"
     ]
    },
    {
     "name": "stdout",
     "output_type": "stream",
     "text": [
      "(108, 100, 200, 3)\n"
     ]
    },
    {
     "name": "stderr",
     "output_type": "stream",
     "text": [
      "\n"
     ]
    }
   ],
   "source": [
    "M = setup[\"M\"]\n",
    "R = setup[\"R\"]\n",
    "S = 2.0/5.0 * M * R**2 * setup[\"omega\"]\n",
    "lines = generate_3d_grid_lines(np.array(setup[\"spawn_pos\"])-np.array(setup[\"grid_size\"])/2, np.array(setup[\"spawn_pos\"])+np.array(setup[\"grid_size\"])/2, setup[\"num_lines\"], setup[\"subdivisions\"])\n",
    "print(lines.shape)\n",
    "\n",
    "taus = np.linspace(0,setup[\"tau_max\"],100)\n",
    "line_ev = np.empty((len(lines), len(taus), len(lines[0]), 3))\n",
    "#for li,line in enumerate(lines):\n",
    "for li in tqdm(range(len(lines))):\n",
    "    line = lines[li]\n",
    "    for pi,pnt in enumerate(line):\n",
    "        z0 = np.array([0,pnt[0],pnt[1],pnt[2],1,setup[\"spawn_vel\"][0],setup[\"spawn_vel\"][1],setup[\"spawn_vel\"][2]])\n",
    "        #print(f\"calculating trajectory for point {pi} on line {li} with z0={np.array2string(z0,precision=3)}.\")\n",
    "        zs = get_geodesic(setup[\"tau_max\"], z0,taus,1e-6)\n",
    "        line_ev[li,:,pi,:] = zs[1:4].T\n",
    "\n",
    "print(line_ev.shape)\n",
    "np.save(f'./assets/spacetime_sims/spacetime_lines{setupnum}.npy', line_ev)\n",
    "np.save(f'./assets/spacetime_sims/lines{setupnum}_timestamps.npy', taus)"
   ]
  },
  {
   "cell_type": "code",
   "execution_count": null,
   "metadata": {},
   "outputs": [
    {
     "name": "stdout",
     "output_type": "stream",
     "text": [
      "(108, 100, 200, 3)\n",
      "(100,)\n"
     ]
    }
   ],
   "source": [
    "line_ev = np.load(f'./assets/spacetime_sims/spacetime_lines{setupnum}.npy')\n",
    "taus = np.load(f'./assets/spacetime_sims/lines{setupnum}_timestamps.npy')\n",
    "print(line_ev.shape)\n",
    "print(taus.shape)"
   ]
  },
  {
   "cell_type": "code",
   "execution_count": 43,
   "metadata": {},
   "outputs": [],
   "source": [
    "%matplotlib qt\n",
    "\n",
    "fig = plt.figure()\n",
    "ax = fig.add_subplot(projection='3d')\n",
    "\n",
    "fig.subplots_adjust(bottom=0.25)\n",
    "\n",
    "ax.set_aspect('equal')\n",
    "ax.set(xlim=[-8,8], ylim=[-8,8], zlim3d=[-8,8], xlabel=r'x', ylabel=r'y')\n",
    "ax.view_init(elev=10., azim=(-100))\n",
    "\n",
    "def draw_sphere(phase=0.0, radius=1.0):\n",
    "    u, v = np.mgrid[0:2*np.pi:14j, 0:np.pi:7j]\n",
    "    x = radius*np.cos(u+phase)*np.sin(v)\n",
    "    y = radius*np.sin(u+phase)*np.sin(v)\n",
    "    z = radius*np.cos(v)\n",
    "    return ax.plot_surface(x, y, z, color=\"red\", zorder=-10)\n",
    "\n",
    "sphere = draw_sphere(0,1)\n",
    "\n",
    "line_objs = []\n",
    "for line in line_ev[:,0,:,:]:\n",
    "    pnts = line.T\n",
    "    [line_obj] = ax.plot(pnts[0],pnts[1],pnts[2],color=\"k\",zorder=10)\n",
    "    line_objs.append(line_obj)\n",
    "\n",
    "tau_slider_ax  = fig.add_axes([0.25, 0.15, 0.65, 0.03])\n",
    "tau_slider = Slider(tau_slider_ax, 'tau idx', 0, len(taus)-1, valstep=1, valinit=0)\n",
    "\n",
    "angle_slider_ax = fig.add_axes([0.25, 0.1, 0.65, 0.03])\n",
    "angle_slider = Slider(angle_slider_ax, 'angle', 0, 360, valinit=0)\n",
    "\n",
    "def tau_on_changed(val):\n",
    "    tau_idx = tau_slider.val\n",
    "    tau = taus[tau_idx]\n",
    "    fig.suptitle(rf'$\\tau={tau:0.2f}$')\n",
    "    for li,line in enumerate(line_ev[:,tau_idx,:,:]):\n",
    "        line_objs[li].set_data_3d(line_ev[li,tau_idx,:,:].T)\n",
    "    fig.canvas.draw_idle()\n",
    "def angle_on_changed(val):\n",
    "    angle = angle_slider.val\n",
    "    ax.view_init(elev=10., azim=(-angle-100))\n",
    "    fig.canvas.draw_idle()\n",
    "tau_slider.on_changed(tau_on_changed)\n",
    "angle_slider.on_changed(angle_on_changed)\n",
    "\n",
    "plt.show()"
   ]
  },
  {
   "cell_type": "code",
   "execution_count": 34,
   "metadata": {},
   "outputs": [],
   "source": [
    "%matplotlib qt\n",
    "\n",
    "\n",
    "fig = plt.figure()\n",
    "ax = fig.add_subplot(projection='3d')\n",
    "\n",
    "fig.subplots_adjust(bottom=0.25)\n",
    "\n",
    "ax.set_aspect('equal')\n",
    "ax.set(xlim=[-8,8], ylim=[-8,8], zlim3d=[-8,8], xlabel=r'x', ylabel=r'y')\n",
    "ax.view_init(elev=10., azim=(-100))\n",
    "\n",
    "def draw_sphere(phase=0.0, radius=1.0):\n",
    "    u, v = np.mgrid[0:2*np.pi:14j, 0:np.pi:7j]\n",
    "    x = radius*np.cos(u+phase)*np.sin(v)\n",
    "    y = radius*np.sin(u+phase)*np.sin(v)\n",
    "    z = radius*np.cos(v)\n",
    "    return ax.plot_surface(x, y, z, color=\"red\", zorder=-10)\n",
    "\n",
    "sphere = draw_sphere(0,1)\n",
    "\n",
    "pnt_objs = []\n",
    "for line in line_ev[:,90,:,:]:\n",
    "    pnts = line.T\n",
    "    pnt_obj = ax.scatter(pnts[0],pnts[1],pnts[2], marker=\".\",color=\"k\",zorder=10)\n",
    "    pnt_objs.append(pnt_obj)\n",
    "\n",
    "tau_slider_ax  = fig.add_axes([0.25, 0.15, 0.65, 0.03])\n",
    "tau_slider = Slider(tau_slider_ax, 'tau idx', 0, len(taus)-1, valstep=1, valinit=0)\n",
    "\n",
    "angle_slider_ax = fig.add_axes([0.25, 0.1, 0.65, 0.03])\n",
    "angle_slider = Slider(angle_slider_ax, 'angle', 0, 360, valinit=0)\n",
    "\n",
    "def tau_on_changed(val):\n",
    "    tau_idx = tau_slider.val\n",
    "    tau = taus[tau_idx]\n",
    "    fig.suptitle(rf'$\\tau={tau:0.2f}$')\n",
    "    for li,line in enumerate(line_ev[:,tau_idx,:,:]):\n",
    "        pnt_objs[li].set_offsets(line_ev[li,tau_idx,:,:].T)\n",
    "    fig.canvas.draw_idle()\n",
    "def angle_on_changed(val):\n",
    "    angle = angle_slider.val\n",
    "    ax.view_init(elev=10., azim=(-angle-100))\n",
    "    fig.canvas.draw_idle()\n",
    "tau_slider.on_changed(tau_on_changed)\n",
    "angle_slider.on_changed(angle_on_changed)\n",
    "\n",
    "plt.show()"
   ]
  },
  {
   "cell_type": "code",
   "execution_count": 23,
   "metadata": {},
   "outputs": [],
   "source": [
    "# %matplotlib inline\n",
    "# plt.rcParams[\"animation.html\"] = \"jshtml\"\n",
    "# #plt.rcParams['figure.dpi'] = 100\n",
    "# matplotlib.rcParams['animation.embed_limit'] = 2**32\n",
    "# plt.ioff()\n",
    "\n",
    "# fig = plt.figure()\n",
    "# ax = fig.add_subplot(projection='3d')\n",
    "\n",
    "# def update(frame):\n",
    "#     ax.cla()\n",
    "#     ax.set_aspect('equal')\n",
    "#     ax.set_xlim(0,10)\n",
    "#     ax.set_ylim(-5,5)\n",
    "#     ax.set(zlim3d=[-5,5])\n",
    "#     ax.set_xlabel(r'x')\n",
    "#     ax.set_ylabel(r'y')\n",
    "#     for line in line_ev[:,frame,:,:]:\n",
    "#         pnts = line.T\n",
    "#         ax.plot(pnts[0],pnts[1],pnts[2],color=\"k\")\n",
    "#     return\n",
    "\n",
    "# def set_angle(a):\n",
    "#     ax.view_init(elev=10., azim=(a-100))\n",
    "\n",
    "# ani = animation.FuncAnimation(fig=fig, func=update, frames=range(0,100,2), interval=30)"
   ]
  },
  {
   "cell_type": "code",
   "execution_count": 24,
   "metadata": {},
   "outputs": [
    {
     "name": "stdout",
     "output_type": "stream",
     "text": [
      "(48, 7, 3)\n"
     ]
    }
   ],
   "source": [
    "lines = generate_3d_grid_lines((0, 0, 0), (1, 1, 1), (4, 4, 4), 7)\n",
    "print(lines.shape)\n",
    "\n",
    "fig = plt.figure()\n",
    "ax = fig.add_subplot(projection='3d')\n",
    "for line in lines:\n",
    "    line = line.T\n",
    "    ax.plot(line[0],line[1],line[2],marker=\".\",color=\"k\")\n",
    "plt.show()"
   ]
  },
  {
   "cell_type": "code",
   "execution_count": null,
   "metadata": {},
   "outputs": [],
   "source": []
  }
 ],
 "metadata": {
  "kernelspec": {
   "display_name": "Python 3",
   "language": "python",
   "name": "python3"
  },
  "language_info": {
   "codemirror_mode": {
    "name": "ipython",
    "version": 3
   },
   "file_extension": ".py",
   "mimetype": "text/x-python",
   "name": "python",
   "nbconvert_exporter": "python",
   "pygments_lexer": "ipython3",
   "version": "3.10.12"
  }
 },
 "nbformat": 4,
 "nbformat_minor": 2
}
