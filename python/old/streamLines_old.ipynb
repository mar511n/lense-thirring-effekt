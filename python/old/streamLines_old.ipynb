{
 "cells": [
  {
   "cell_type": "code",
   "execution_count": 3,
   "metadata": {},
   "outputs": [],
   "source": [
    "import numpy as np\n",
    "import scipy.integrate as spint\n",
    "import scipy.interpolate as spinter\n",
    "import matplotlib.pyplot as plt\n",
    "from matplotlib.widgets import Slider"
   ]
  },
  {
   "cell_type": "code",
   "execution_count": 23,
   "metadata": {},
   "outputs": [],
   "source": [
    "class StreamLines:\n",
    "    \"\"\"\n",
    "    startPos is a (N,D) array, where N is the number of streamlines and D is the number of dimensions (e.g.: 3)\n",
    "    fieldFunc is the function f(t,x)->dx/dt where x is of dimension D\n",
    "    \"\"\"\n",
    "    def __init__(self, startPos, fieldFunc, t_max, tN=200, tol=1e-5, showRatio=0.2):\n",
    "        self.startPos = startPos\n",
    "        self.fieldFunc = fieldFunc\n",
    "        self.t_max = t_max\n",
    "        self.rtol = tol\n",
    "        self.atol = tol*1e-2\n",
    "        self.tN = tN\n",
    "        self.showN = int(tN*showRatio)\n",
    "    \n",
    "    def getLinesAtTime(self,t,fadeIn=True,fadeOut=True):\n",
    "        fI = 0\n",
    "        fO = 0\n",
    "        if fadeIn:\n",
    "            fI = self.showN\n",
    "        if fadeOut:\n",
    "            fO = self.showN\n",
    "\n",
    "        startT = int((self.tN-1+fI-self.showN+fO)*t/self.t_max)-fI\n",
    "        endT = startT+self.showN\n",
    "        return self.lines[:,np.clip(startT,0,self.tN-1):np.clip(endT,0,self.tN-1),:], self.cvals[:,np.clip(startT,0,self.tN-2):np.clip(endT-1,0,self.tN-2)]\n",
    "\n",
    "    def compute(self):\n",
    "        t_evals = np.linspace(0,self.t_max,self.tN)\n",
    "        self.lines = np.empty((self.startPos.shape[0],self.tN,self.startPos.shape[1]))\n",
    "        self.cvals = np.empty((self.startPos.shape[0],self.tN-1))\n",
    "\n",
    "        for i in range(len(self.startPos)):\n",
    "            rkdp = spint.RK45(self.fieldFunc, 0.0, self.startPos[i], self.t_max, first_step=self.rtol*1e-2,rtol=self.rtol,atol=self.atol)\n",
    "            ts = [0.0]\n",
    "            zs = [rkdp.y]\n",
    "            while rkdp.t < self.t_max:\n",
    "                rkdp.step()\n",
    "                ts.append(rkdp.t)\n",
    "                zs.append(rkdp.y)\n",
    "                if rkdp.status != \"running\":\n",
    "                    break\n",
    "            zs = np.array(zs).T\n",
    "            intf = spinter.interp1d(ts, zs, fill_value=(zs[:,0],zs[:,-1]), bounds_error=False)\n",
    "            self.lines[i,:,:] = intf(t_evals).T\n",
    "            self.cvals[i,:] = np.sqrt(np.sum((self.lines[i,1:,:]-self.lines[i,:-1,:])**2, axis=1))"
   ]
  },
  {
   "cell_type": "code",
   "execution_count": 90,
   "metadata": {},
   "outputs": [
    {
     "name": "stdout",
     "output_type": "stream",
     "text": [
      "(4, 10000, 3)\n",
      "[[ 9.22190243e-06  0.00000000e+00  7.92725015e-04]\n",
      " [ 5.64678665e-22  9.22190243e-06  7.92725015e-04]\n",
      " [-9.22190243e-06  1.12935733e-21  7.92725015e-04]\n",
      " [-1.69403599e-21 -9.22190243e-06  7.92725015e-04]]\n"
     ]
    }
   ],
   "source": [
    "def efield(_t,rv):\n",
    "    r = np.linalg.norm(rv)\n",
    "    if r < 1e-10:\n",
    "        return 0*rv\n",
    "    return -rv/r**3\n",
    "\n",
    "def bfield(_t,rv):\n",
    "    r = np.linalg.norm(rv)\n",
    "    if r < 1e-10:\n",
    "        return 0*rv\n",
    "    S = np.array([0,0,1])\n",
    "    return (S-3*np.dot(S,rv)/r**2 * rv)/r**3\n",
    "\n",
    "r = 2.6247\n",
    "sps = np.array([[r*np.cos(phi_i*np.pi*2),r*np.sin(phi_i*np.pi*2),2.2085] for phi_i in np.arange(0,1,0.25)])\n",
    "sls = StreamLines(sps, bfield, 24, tN=10000, tol=1e-6, showRatio=0.2)\n",
    "sls.compute()\n",
    "print(sls.lines.shape)\n",
    "print(sls.lines[:,-1,:])"
   ]
  },
  {
   "cell_type": "code",
   "execution_count": 91,
   "metadata": {},
   "outputs": [],
   "source": [
    "%matplotlib qt\n",
    "\n",
    "min_l = -3\n",
    "max_l = 3\n",
    "\n",
    "fig = plt.figure()\n",
    "ax = fig.add_subplot(projection='3d')\n",
    "\n",
    "fig.subplots_adjust(bottom=0.25)\n",
    "\n",
    "ax.set_aspect('equal')\n",
    "ax.set(xlim=[min_l,max_l], ylim=[min_l,max_l], zlim3d=[min_l,max_l], xlabel=r'x', ylabel=r'y')\n",
    "ax.view_init(elev=10., azim=(-100))\n",
    "\n",
    "# pnt_objs = []\n",
    "# for line in sls.lines:\n",
    "#     pnts = line.T\n",
    "#     pnt_obj = ax.scatter(pnts[0],pnts[1],pnts[2], marker=\".\",color=\"k\",zorder=10)\n",
    "#     pnt_objs.append(pnt_obj)\n",
    "\n",
    "t_slider_ax  = fig.add_axes([0.25, 0.15, 0.65, 0.03])\n",
    "t_slider = Slider(t_slider_ax, 't', 0, sls.t_max, valstep=sls.t_max/100, valinit=0)\n",
    "\n",
    "angle_slider_ax = fig.add_axes([0.25, 0.1, 0.65, 0.03])\n",
    "angle_slider = Slider(angle_slider_ax, 'angle', 0, 360, valinit=0)\n",
    "\n",
    "def t_on_changed(t_val):\n",
    "    fig.suptitle(rf'$t={t_val:0.2f}$')\n",
    "    ax.cla()\n",
    "    ax.set_aspect('equal')\n",
    "    ax.set(xlim=[min_l,max_l], ylim=[min_l,max_l], zlim3d=[min_l,max_l], xlabel=r'x', ylabel=r'y')\n",
    "    lines, cvals = sls.getLinesAtTime(t_val)\n",
    "    for line in lines:\n",
    "        ax.plot(line[:,0],line[:,1],line[:,2])\n",
    "    fig.canvas.draw()\n",
    "def angle_on_changed(val):\n",
    "    angle = angle_slider.val\n",
    "    ax.view_init(elev=10., azim=(-angle-100))\n",
    "    fig.canvas.draw_idle()\n",
    "t_slider.on_changed(t_on_changed)\n",
    "angle_slider.on_changed(angle_on_changed)\n",
    "\n",
    "plt.show()"
   ]
  },
  {
   "cell_type": "code",
   "execution_count": 31,
   "metadata": {},
   "outputs": [
    {
     "name": "stdout",
     "output_type": "stream",
     "text": [
      "0.10000000000000009\n"
     ]
    }
   ],
   "source": [
    "print(1.1%1.0)"
   ]
  },
  {
   "cell_type": "code",
   "execution_count": null,
   "metadata": {},
   "outputs": [],
   "source": []
  }
 ],
 "metadata": {
  "kernelspec": {
   "display_name": "Python 3",
   "language": "python",
   "name": "python3"
  },
  "language_info": {
   "codemirror_mode": {
    "name": "ipython",
    "version": 3
   },
   "file_extension": ".py",
   "mimetype": "text/x-python",
   "name": "python",
   "nbconvert_exporter": "python",
   "pygments_lexer": "ipython3",
   "version": "3.10.12"
  }
 },
 "nbformat": 4,
 "nbformat_minor": 2
}
