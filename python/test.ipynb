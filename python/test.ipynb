{
 "cells": [
  {
   "cell_type": "markdown",
   "id": "69e2fe76",
   "metadata": {},
   "source": [
    "The identification and measurement of Lense–Thirring (LT) precession in AT2020ocn proceeds in two main stages:\n",
    "\n",
    "1. **Timing analysis to detect the quasi-periodic modulation**\n",
    "\n",
    "   * **High-cadence X-ray monitoring** with NICER (0.3–1.0 keV) provided a densely sampled light curve over the first ∼130 days after disruption.\n",
    "   * A **Lomb–Scargle periodogram** (LSP) of the background-subtracted count rate was computed, revealing a broad peak at a period of $17^{+1.2}_{-2.4}$ days (identified visually as a ∼15-day quasi-periodicity) with harmonics at integer multiples .\n",
    "   * To quantify the **statistical significance** of this feature, extensive **Monte Carlo simulations** were performed:\n",
    "\n",
    "     1. Synthetic light curves were generated under various noise models (white noise, simple red-noise power laws, and bending power laws) matching the observed sampling.\n",
    "     2. For each simulated dataset, the LSP was computed and searched for broad features of coherence $Q\\in[2,10]$, quantifying their total power.\n",
    "     3. The distribution of the strongest simulated features was compared to the observed peak power.\n",
    "   * The resulting **global false alarm probability** (FAP) of finding a peak as strong as the one at ∼15 days by chance was found to be $<10^{-4}$, i.e. $>3.9\\sigma$ for all noise continua considered .\n",
    "\n",
    "2. **Interpretation as LT precession and spin inference**\n",
    "\n",
    "   * In the standard rigid-body LT precession model for a thick, misaligned disk $[1,2]$, the precession period $t_p$ depends inversely on the dimensionless spin $a$, and scales roughly as\n",
    "\n",
    "     $$\n",
    "       t_p \\;\\simeq\\;\\frac{\\pi}{a}\\,\\Bigl(\\frac{R_{\\rm out}}{R_g}\\Bigr)^3\\frac{GM}{c^3}\\times\\xi\\!\\bigl(R_{\\rm in}/R_{\\rm out}\\bigr)\\,,\n",
    "     $$\n",
    "\n",
    "     where $R_{\\rm out}$ is taken as the circularization radius, $R_g=GM/c^2$, and $\\xi$ is a weak geometric factor .\n",
    "   * Inverting this relation with the observed period ($15.9^{+1.1}_{-2.2}$ days) and adopting typical TDE parameters (solar-type star, impact parameter $\\beta\\simeq2$, SMBH mass $\\log M/M_\\odot=6.4\\pm0.6$) yields a spin constraint\n",
    "\n",
    "     $$\n",
    "       0.05 \\;\\lesssim\\; |a| \\;\\lesssim\\; 0.5\\,. \n",
    "     $$\n",
    "   * **Caveats & alternative models**:\n",
    "\n",
    "     * Radiation-pressure instability can in principle produce ∼10–15 day cycles but requires fine-tuning of disk truncation and magnetic field strength to match the observed low amplitude.\n",
    "     * Repeating partial TDEs or stream–stream collisions were found to be highly unlikely or to predict different timescales and amplitudes.\n",
    "     * Disk-tearing into discrete rings can also precess at local LT rates, but again demands specific viscosity and thickness parameters to reproduce the ∼15 day period.\n",
    "\n",
    "**Overall certainty**\n",
    "\n",
    "* The detection of a robust, $>3.9\\sigma$ quasi-periodic signal in the X-rays is extremely unlikely to be a statistical fluke.\n",
    "* The LT precession interpretation naturally explains both the X-ray flux *and* temperature modulations on the same timescale, and the absence of corresponding optical–UV quasi-periodicity.\n",
    "* However, because other physical mechanisms (e.g.\\ radiation-pressure instability, disk tearing) cannot be *completely* ruled out without further detailed modeling, the assignment to LT precession remains the most straightforward but not yet unambiguous explanation.\n"
   ]
  },
  {
   "cell_type": "markdown",
   "id": "c4f187ac",
   "metadata": {},
   "source": [
    "* **Gravitomagnetische Rahmen­verzerrung (Lense–Thirring):** Rotierende Massen erzeugen in GR ein Gravitomagnetfeld, das lokale Inertialsysteme mitzieht und zu einer Präzession der Umlaufebene führt .\n",
    "* **System PSR J1141–6545:** Jugendlicher Radiopulsar in 4,74 h exzentrischer Umlaufbahn um einen schnellrotierenden Weißen Zwerg (M ≈ 1,02 M☉).\n",
    "* **Beobachtete Effekte:** Änderung der projizierten Halbachse ẋ\\_obs = (1,7 ± 0,3)×10⁻¹³ s/s, entsprechend einer Neigungänderung von \\~1,7″/Jahr .\n",
    "* **Beitrag zur Präzession:** Kombinierter Einfluss von Newtonscher Quadrupolkopplung (ẋ\\_QPM ∝ P\\_WD⁻²) und Lense–Thirring-Effekt (ẋ\\_LT ∝ P\\_WD⁻¹).\n",
    "* **MCMC-Constraints:** WD-Spinperiode P\\_WD < 200 s (99 % KI) durch marginalisierte Likelihood unter Berücksichtigung binärer Evolutionsmodelle .\n",
    "* **Erstnachweis im Binär­pulsar­orbit:** Lense–Thirring-Präzession übersteigt Newton-Term für P\\_WD > 270 s; Detektion bestätigt Rah­mentragung nach Einstein."
   ]
  },
  {
   "cell_type": "markdown",
   "id": "cda6ded1",
   "metadata": {},
   "source": []
  }
 ],
 "metadata": {
  "language_info": {
   "name": "python"
  }
 },
 "nbformat": 4,
 "nbformat_minor": 5
}
