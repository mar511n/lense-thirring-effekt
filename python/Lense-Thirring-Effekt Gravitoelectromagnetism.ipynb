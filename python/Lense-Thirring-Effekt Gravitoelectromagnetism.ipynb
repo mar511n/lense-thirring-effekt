{
 "cells": [
  {
   "cell_type": "markdown",
   "metadata": {},
   "source": [
    "# Aufgabe"
   ]
  },
  {
   "cell_type": "markdown",
   "metadata": {
    "vscode": {
     "languageId": "plaintext"
    }
   },
   "source": [
    "### Annahmen & Konventionen\n",
    "Im Folgenden werden Natürliche Einheiten für die Zeit und Masse gewählt, sodass $c=1$ und $G=1$. Später wird zusätzlich die natürliche Einheit der Länge mit $R=1$ verwendet.\n",
    "\n",
    "Falls nicht anders spezifiziert, wird bei nicht vorgegebenen doppelten Indices die Einsteinsche Summenkonvention für $\\{0,1,2,3\\}$ verwendet."
   ]
  },
  {
   "cell_type": "markdown",
   "metadata": {},
   "source": [
    "Es wird $g_{ab} = \\eta_{ab} + h_{ab}$ als lineare Näherung der Metrik verwendet. Hierbei ist $\\eta_{ab}$ die Minkowski-Metrik:\n",
    "$$\\eta_{ab} = \\eta^{ab} = \\begin{pmatrix}\n",
    "1 & 0 & 0 & 0 \\\\\n",
    "0 & -1 & 0 & 0 \\\\\n",
    "0 & 0 & -1 & 0 \\\\\n",
    "0 & 0 & 0 & -1\n",
    "\\end{pmatrix}$$\n",
    "Hierbei soll $h_{ab}$ eine kleine Störung sein, sodass nur Terme erster Ordnung $\\mathcal{O}(h_{ab})$ betrachtet werden.\n",
    "\n",
    "Es wird im Folgenden angenommen, dass $h_{ab}=0$ für $a\\neq 0$ und $b\\neq 0$ gilt.\n",
    "\n",
    "Außerdem gilt aufgrund der Symmetrie der Metrik $h_{ab} = h_{ba}$.\n",
    "\n",
    "Als letztes wird angenommen, dass die Störung nicht direkt Zeitabhängig ist, d.h. $\\frac{\\partial h_{ab}}{\\partial t} = 0$."
   ]
  },
  {
   "cell_type": "markdown",
   "metadata": {},
   "source": [
    "## Teil a)"
   ]
  },
  {
   "cell_type": "markdown",
   "metadata": {},
   "source": [
    "Damit lassen sich die linearisierten Christoffel-Symbole wie folgt schreiben:\n",
    "$$\\Gamma^i{}_{kl} \\approx \\frac{1}{2}\\eta^{ii}\\left( \\frac{\\partial h_{ik}}{\\partial x^l} + \\frac{\\partial h_{il}}{\\partial x^k} - \\frac{\\partial h_{kl}}{\\partial x^i} \\right)$$"
   ]
  },
  {
   "cell_type": "markdown",
   "metadata": {},
   "source": [
    "Wir nehmen nun an, dass die die Bewegung sehr viel langsamer als mit Lichtgeschwindigkeit stattfindet, d.h. die Eigenzeit entspricht in etwa der Koordinatenezeit $t$. Dafür kann die Geodätengleichung formuliert werden:\n",
    "$$\\frac{d^2 x^{i}}{{dt}^2} \\approx -\\Gamma^i{}_{kl} \\frac{d x^k}{dt} \\frac{d x^l}{dt}$$"
   ]
  },
  {
   "cell_type": "markdown",
   "metadata": {},
   "source": [
    "Einsetzen liefert nun für $i \\in \\{1,2,3\\}$:\n",
    "$$\n",
    "\\begin{aligned}\n",
    "\\frac{d^2 x^{i}}{{dt}^2} &= -\\frac{1}{2} \\eta_{ii} \\left( \\frac{\\partial h_{ik}}{\\partial x^l} + \\frac{\\partial h_{il}}{\\partial x^k} - \\frac{\\partial h_{kl}}{\\partial x^i} \\right) \\frac{d x^k}{dt} \\frac{d x^l}{dt}\n",
    "\\\\\n",
    "&= +\\frac{1}{2} \\left(2 \\frac{\\partial h_{ik}}{\\partial x^l} - \\frac{\\partial h_{kl}}{\\partial x^i} \\right) \\frac{d x^k}{dt} \\frac{d x^l}{dt}\n",
    "\\\\\n",
    "&= +\\frac{\\partial h_{i0}}{\\partial x^k} \\frac{d x^k}{dt} - \\frac{\\partial h_{k0}}{\\partial x^i} \\frac{d x^k}{dt} + \\frac{1}{2}\\frac{\\partial h_{00}}{\\partial x^i} \n",
    "\\\\\n",
    "&= \\frac{1}{2}\\frac{\\partial h_{00}}{\\partial x^i} + \\sum_{k=1}^3\\left[\\frac{\\partial h_{i0}}{\\partial x^k} \\frac{d x^k}{dt} - \\frac{\\partial h_{k0}}{\\partial x^i} \\frac{d x^k}{dt}\\right]\n",
    "\\\\\n",
    "&= \\frac{1}{2}\\frac{\\partial h_{00}}{\\partial x^i} + \\varepsilon_{ijk}\\varepsilon_{jlm}\\frac{\\partial h_{0m}}{\\partial x^l}\\frac{d x^k}{dt}\n",
    "\\\\\n",
    "&= -\\left(\\vec{\\nabla}\\Phi\\right)_i - \\left((\\vec{\\nabla}\\times\\vec{A})\\times\\vec{v}\\right)_i\n",
    "\\\\\n",
    "&=  \\left(\\frac{d \\vec{v}}{dt}\\right)_i\n",
    "\\end{aligned}\n",
    "$$"
   ]
  },
  {
   "cell_type": "markdown",
   "metadata": {},
   "source": [
    "Hierbei ist $\\Phi = -\\frac{1}{2}h_{00}$ und $(\\vec{A})_i = -h_{0i}$. Ersetzt man nun $\\vec{E} = -\\vec{\\nabla}\\Phi$ und $\\vec{B} = \\vec{\\nabla}\\times\\vec{A}$ und fordert $\\vec{\\nabla}\\cdot\\vec{A}=0$ (Coulomb-Eichung) erhält man folgende Gleichungen:\n",
    "$$\n",
    "\\begin{aligned}\n",
    "\\frac{d \\vec{v}}{dt} &= \\vec{E} + \\vec{v}\\times\\vec{B}\n",
    "\\\\\n",
    "\\vec{\\nabla}\\cdot\\vec{E} &= \\frac{1}{2}\\Delta h_{00} = - 4 \\pi \\rho\n",
    "\\\\\n",
    "\\vec{\\nabla}\\cdot\\vec{B} &= 0\n",
    "\\\\\n",
    "\\vec{\\nabla}\\times\\vec{E} &= 0\n",
    "\\\\\n",
    "\\vec{\\nabla}\\times\\vec{B} &= -\\Delta \\vec{A} = -16 \\pi \\vec{j}\n",
    "\\end{aligned}\n",
    "$$"
   ]
  },
  {
   "cell_type": "markdown",
   "metadata": {},
   "source": [
    "## Teil b)"
   ]
  },
  {
   "cell_type": "markdown",
   "metadata": {},
   "source": [
    "Nun wird eine mit konstanter Winkelgeschwindigkeit $\\vec{\\omega}$ rotierende homogene Kugel betrachtet:\n",
    "$$\n",
    "\\begin{aligned}\n",
    "\\rho(r) &= \\rho_0 \\Theta(R-r)\n",
    "\\\\\n",
    "\\vec{j} &= \\rho_0 \\vec{\\omega}\\times\\vec{r}\\Theta(R-r)\n",
    "\\end{aligned}\n",
    "$$"
   ]
  },
  {
   "cell_type": "markdown",
   "metadata": {},
   "source": [
    "Für $h_{00}$ gilt hier die folgende Poisson-Gleichung:\n",
    "$$\n",
    "\\Delta h_{00} = -8 \\pi \\rho_0 \\Theta(R-r)\n",
    "$$"
   ]
  },
  {
   "cell_type": "markdown",
   "metadata": {},
   "source": [
    "Es wird folgender Ansatz gewählt:\n",
    "$$\n",
    "h_{00} = \\frac{K}{r}\n",
    "$$\n",
    "$$\n",
    "\\vec{\\nabla}h_{00} = - K \\frac{\\vec{r}}{r^3}\n",
    "$$\n",
    "Wobei $K$ eine noch zu bestimmende Konstante ist. Diese lässt sich über das Gaußsche Gesetz bestimmen:\n",
    "$$\n",
    "\\int_{S_R} -\\vec{\\nabla}\\Phi \\cdot \\vec{dA} = \\int_{B_R} -\\Delta\\Phi dV = 4 \\pi \\int_{B_R} \\rho_0 dV = 4 \\pi M\n",
    "$$\n",
    "Hier ist $M$ die Gesamtmasse der Kugel. Eine andere Möglichkeit ist es das Integral über die Kugeloberfläche zu berechnen:\n",
    "$$\n",
    "\\int_{S_R} -\\vec{\\nabla}\\Phi \\cdot \\vec{dA} = \\frac{K}{2} \\int_{S_R} \\frac{1}{r^2} dA = 2 \\pi K\n",
    "$$\n",
    "Vergleicht man die beiden Ausdrücke erhält man $K = 2 M$ und somit:\n",
    "$$\n",
    "h_{00} = \\frac{2 M}{r}\n",
    "$$\n"
   ]
  },
  {
   "cell_type": "markdown",
   "metadata": {},
   "source": [
    "Für $h_{0i}$ bzw. für $\\vec{A}$ gilt:\n",
    "$$\n",
    "\\Delta h_{0i} = -16 \\pi j_i = -16 \\pi \\rho_0 \\varepsilon_{ijk} \\omega_j x_k \\Theta(R-r)\n",
    "$$"
   ]
  },
  {
   "cell_type": "markdown",
   "metadata": {},
   "source": [
    "Es wird der folgende Ansatz gemacht:\n",
    "$$\n",
    "h_{0i} = -\\varepsilon_{ijk}\\omega_j\\frac{\\partial a}{\\partial x_k}\n",
    "$$\n",
    "Wendet man hierauf den Laplace Operator an, ergibt sich:\n",
    "$$\n",
    "\\Delta h_{0i} = -\\varepsilon_{ijk}\\omega_j\\frac{\\partial (\\Delta a)}{\\partial x_k}\n",
    "$$\n",
    "Aus dem Vergleich mit der vorherigen Gleichung ergibt sich:\n",
    "$$\n",
    "\\vec{\\nabla}(\\Delta a) = 16 \\pi \\rho_0 \\vec{r} \\Theta(R-r)\n",
    "$$"
   ]
  },
  {
   "cell_type": "markdown",
   "metadata": {},
   "source": [
    "Diese Gleichung wird nun unter der Forderung $\\Delta a = 0$ für $r \\rightarrow \\infty$ aufintegriert:\n",
    "$$\n",
    "\\int_{\\infty}^{r}\\vec{\\nabla}(\\Delta a) \\cdot \\vec{dr} = \\Delta a = 16 \\pi \\rho_0 \\int_{\\infty}^{r}r' \\Theta(R-r')dr'\n",
    "= 8 \\pi \\rho_0 (r^2 -R^2) \\Theta(R-r)\n",
    "$$"
   ]
  },
  {
   "cell_type": "markdown",
   "metadata": {},
   "source": [
    "Es wird nun erneut der folgende Ansatz gewählt:\n",
    "$$\n",
    "a = \\frac{2I}{r}\n",
    "$$\n",
    "$$\n",
    "\\vec{\\nabla}a = - 2I \\frac{\\vec{r}}{r^3}\n",
    "$$\n",
    "Wobei $I$ hier wieder über die Randbedingung zu bestimmen ist."
   ]
  },
  {
   "cell_type": "markdown",
   "metadata": {},
   "source": [
    "Hierzu wird erneut folgende Betrachtung angestellt:\n",
    "$$\n",
    "\\int_{S_R} \\vec{\\nabla}a \\cdot \\vec{dA} = \\int_{B_R} \\Delta a\\, dV = 8 \\pi \\int_{B_R} \\rho_0 (r^2 - R^2) dV\n",
    "$$\n",
    "$$\n",
    "\\int_{S_R} \\vec{\\nabla} a \\cdot \\vec{dA} = -2 I \\int_{S_R} \\frac{1}{r^2} dA = -8 \\pi I\n",
    "$$\n",
    "Woraus folgt, dass $I$ das Trägheitsmoment der Kugel ist:\n",
    "$$\n",
    "I = \\int_{B_R} \\rho_0 (R^2 - r^2) dV = \\frac{2}{5} M R^2\n",
    "$$"
   ]
  },
  {
   "cell_type": "markdown",
   "metadata": {},
   "source": [
    "Damit ergibt sich nun $h_{0i}$ durch Einsetzen:\n",
    "$$\n",
    "h_{0i} = 2 I \\frac{\\varepsilon_{ijk}\\omega_j x_k}{r^3} = 2 \\frac{I(\\vec{\\omega}\\times\\vec{r})_i}{r^3} = 2 \\frac{(\\vec{S}\\times\\vec{r})_i}{r^3}\n",
    "$$"
   ]
  },
  {
   "cell_type": "markdown",
   "metadata": {},
   "source": [
    "Wobei hier $\\vec{S}=I\\vec{\\omega}$ der Drehimpuls von der Kugel ist."
   ]
  },
  {
   "cell_type": "markdown",
   "metadata": {},
   "source": [
    "## Teil c)"
   ]
  },
  {
   "cell_type": "markdown",
   "metadata": {},
   "source": [
    "Durch Einsetzen ergibt sich:\n",
    "$$\n",
    "\\vec{E} = -\\vec{\\nabla} \\Phi = \\frac{1}{2} \\vec{\\nabla} h_{00} = -\\frac{M \\vec{r}}{r^3}\n",
    "$$\n",
    "$$\n",
    "\\vec{B} = \\vec{\\nabla}\\times\\vec{A} = - 2 \\vec{\\nabla}\\times\\frac{\\vec{S}\\times\\vec{r}}{r^3} = \\frac{2}{r^3} \\left[\\vec{S} - \\frac{3 (\\vec{S}\\cdot\\vec{r}) \\vec{r}}{r^2}\\right]\n",
    "$$"
   ]
  },
  {
   "cell_type": "markdown",
   "metadata": {},
   "source": [
    "Hiermit lässt sich nun die Kraft auf ein Testteilchen der Masse $m$ schreiben als:\n",
    "$$\n",
    "m\\frac{d \\vec{v}}{dt} = m\\vec{E} + m\\vec{v}\\times\\vec{B}\n",
    "= \\frac{m}{r^3} \\left[-M \\vec{r} + 2 \\vec{v}\\times\\vec{S} - \\frac{6 (\\vec{S}\\cdot\\vec{r})}{r^2} \\vec{v}\\times\\vec{r}\\right]\n",
    "$$"
   ]
  },
  {
   "cell_type": "markdown",
   "metadata": {},
   "source": [
    "### Kraft auf radial senkrecht zu $\\vec{S}$ einfallendes Teilchen\n",
    "Befindet sich ein Teilchen in der Ebene senkrecht zu $\\vec{S}$ und bewegt sich in radiale Richtung mit Geschwindigkeit $v$, wirkt folgende Kraft:\n",
    "$$\n",
    "m\\frac{d \\vec{v}}{dt} = \\frac{m}{r^3} \\left[-M r \\hat{r} + \\frac{4}{5} M v \\omega \\hat{\\varphi}\\right]\n",
    "$$\n",
    "Daher erfährt das Teilchen zusätzlich zur newtonschen Gravitationskraft eine ein senkrecht wirkende Kraft. Das Verhältnis der Kraftbeträge ist:\n",
    "$$\n",
    "\\frac{\\frac{2}{5} M v \\omega}{M r} = \\frac{4}{5} \\frac{v \\omega}{r}\n",
    "$$\n",
    "Diese Kraft kann als frame-dragging verstanden werden und wirkt in Drehrichtung."
   ]
  },
  {
   "cell_type": "markdown",
   "metadata": {},
   "source": [
    "### Kraft auf ein senkrecht über den Pol fliegendes Teilchen\n",
    "Angenommen ein Teilchen befindet sich auf der $z$-Achse und hat eine Geschwindigkeit $v$ in positive $x$-Richtung, dann wirkt folgende Kraft:\n",
    "$$\n",
    "m\\frac{d \\vec{v}}{dt} = \\frac{m}{r^3} \\left[-M r \\hat{z} + \\frac{8}{5} M \\omega v \\hat{y}\\right]\n",
    "$$\n",
    "Daher erfährt das Teilchen zusätzlich zur newtonschen Gravitationskraft eine ein senkrecht wirkende Kraft. Das Verhältnis der Kraftbeträge ist:\n",
    "$$\n",
    "\\frac{\\frac{4}{5} M v \\omega}{M r} = \\frac{8}{5} \\frac{v \\omega}{r}\n",
    "$$"
   ]
  },
  {
   "cell_type": "markdown",
   "metadata": {},
   "source": [
    "# Präzession\n",
    "Angenommen ein rotierendes Objekt befindet sich in festem Abstand $\\vec{r}_S$ zu dem gravitativen Körper.\n",
    "\n",
    "Das Objekt rotiere oBdA um die $z$-Achse, d.h. $\\vec{\\omega}=\\omega\\hat{z}$.\n",
    "\n",
    "Das Objekt hat eine Massendichte von $\\Rho(\\rho, z)$, die Dichte sei also konstant im Winkel $\\varphi$.\n",
    "\n",
    "Dann ist das Drehmoment gegeben durch $\\frac{d \\vec{L}}{d t} = \\int \\int \\int d^3r\\ \\vec{r}\\times\\vec{f_{LT}}$.\n",
    "\n",
    "Hierbei ist $\\vec{f_{LT}}$ die folgende Kraftdichte:\n",
    "$$\n",
    "\\vec{f_{LT}} = \\Rho(\\rho, z) \\left[2 \\vec{v}\\times\\vec{\\Omega} - \\frac{6 (\\vec{S}\\cdot\\vec{r}_S)}{r_S^5}\\vec{v}\\times\\vec{r}\\right]\n",
    "$$\n",
    "Dies ergibt sich durch Einsetzen von $\\vec{r}_G=\\vec{r}_S+\\vec{r}$ in die oben hergeleitete Kraft des Lense-Thirring-Effekts. Hierbei werden die Annahmen $r\\approx r_S$ und $\\vec{S}\\cdot\\vec{r}\\approx\\vec{S}\\cdot\\vec{r}_S$ gemacht. Der newtonsche Anteil wirkt nur auf den Schwerpunkt und geht deswegen nicht mit ein.\n",
    "\n",
    "Die Größe $\\vec{\\Omega}$ dient der Übersichtlichkeit. Sie hängt nur von $\\vec{S}$ und $\\vec{r}_S$ ab und ist gegeben durch:\n",
    "$$\n",
    "\\vec{\\Omega} = \\frac{B(\\vec{r}_S)}{2} = \\frac{1}{r_S^3}\\left(\\vec{S} - \\frac{3(\\vec{S}\\cdot\\vec{r}_S)}{r_S^2}\\vec{r}_S\\right)\n",
    "$$\n",
    "\n",
    "Einsetzen in die Gleichung für das Drehmoment führt zu:\n",
    "$$\n",
    "\\frac{d \\vec{L}}{d t} = \\int\\int\\int d^3r\\ 2 \\Rho(\\rho, z) \\vec{r}\\times(\\vec{v}\\times\\vec{\\Omega}) - \\frac{6 (\\vec{S}\\cdot\\vec{r}_S)}{r_S^5} \\int\\int\\int d^3r\\ \\Rho(\\rho, z) \\vec{r}\\times(\\vec{v}\\times\\vec{r})\n",
    "$$\n",
    "Mit $\\vec{a}\\times(\\vec{b}\\times\\vec{a}) = a^2 \\vec{b} - (\\vec{a}\\cdot\\vec{b})\\vec{a}$ und $\\vec{v}=\\omega\\rho\\hat{\\varphi}$ folgt dann:\n",
    "$$\n",
    "\\frac{d \\vec{L}}{d t} = \\omega \\int\\int\\int d^3r\\ 2 \\Rho(\\rho, z) \\rho (\\vec{r}\\cdot\\vec{\\Omega})\\hat{\\varphi} - \\frac{6 (\\vec{S}\\cdot\\vec{r}_S)\\omega}{r_S^5} \\int\\int\\int d^3r\\ \\Rho(\\rho, z) \\rho r^2 \\hat{\\varphi}\n",
    "$$\n",
    "Der zweite Term verschwindet bei der Integration über $\\varphi$. Damit ergibt sich:\n",
    "$$\n",
    "\\frac{d \\vec{L}}{d t} = 2 \\pi \\omega \\left(\\hat{z}\\times\\vec{\\Omega}\\right) \\int\\int \\rho^3 \\Rho(\\rho,z) dz dr\n",
    "$$\n",
    "Man erkennt hier das Trägheitsmoment $I = 2\\pi\\int\\int \\rho^3 \\Rho(\\rho,z) dz dr$ wieder. Es folgt final:\n",
    "$$\n",
    "\\frac{d \\vec{L}}{d t} = \\vec{L}\\times\\vec{\\Omega}\n",
    "$$\n",
    "Wobei hier $\\vec{L} = I \\vec{\\omega}$ verwendet wurde."
   ]
  },
  {
   "cell_type": "markdown",
   "metadata": {},
   "source": [
    "Dies stimmt mit dem Ergebnis aus Gravitation von Misner & Thorne überein."
   ]
  },
  {
   "cell_type": "markdown",
   "metadata": {},
   "source": [
    "# Umrechnung in SI-Einheiten\n",
    "\n",
    "Aufgrund der natürlichen Einheiten ($c=1$, $G=1$, $R=1$) gelten folgende Umrechnungsregeln für die drei Basiseinheiten Zeit $T$, Länge $L$ und Masse $M$ (wobei die gestrichenen Größen sowie $c$ und $G$ SI-Einheiten verwenden):\n",
    "$$\n",
    "r = r' R^{-1}\n",
    "$$\n",
    "$$\n",
    "\\Rightarrow L = L' R^{-1}\n",
    "$$\n",
    "$$\n",
    "v = v' c^{-1} = L T^{-1} = L' T'^{-1} c^{-1}\n",
    "$$\n",
    "$$\n",
    "\\Rightarrow T = T' c R^{-1}\n",
    "$$\n",
    "$$\n",
    "L^3 M^{-1} T^{-2} = L'^3 M'^{-1} T'^{-2} G^{-1}\n",
    "$$\n",
    "$$\n",
    "\\Rightarrow M = M' G c^{-2} R^{-1}\n",
    "$$\n",
    "Daher gilt für den Drehimpuls:\n",
    "$$\n",
    "S = M L^2 T^{-1} = M' L'^2 T'^{-1} G c^{-3} R^{-2} = S' G c^{-3} R^{-2}\n",
    "$$"
   ]
  },
  {
   "cell_type": "markdown",
   "metadata": {},
   "source": [
    "# Freie Parameter und Beispiele zur Einschätzung der Größenordnungen\n",
    "Die freien Parameter sind $M,\\omega$.\n",
    "\n",
    "### Beispiel Erde\n",
    "Die Erde hat eine Masse von $M' = 5.9722 \\cdot 10^{24}\\,\\mathrm{kg}$ und eine Winkelgeschwindigkeit von $\\omega' = \\frac{2 \\pi}{24\\,\\mathrm{h}} = \\frac{2 \\pi}{86400}\\, \\frac{1}{\\mathrm{s}}$.\n",
    "\n",
    "Der Erdradius beträgt etwa $6.371\\cdot 10^6\\,\\mathrm{m}$.\n",
    "\n",
    "Damit ergibt sich in natürlichen Einheiten:\n",
    "$$\n",
    "M = M' G c^{-2} R^{-1} = 6.96\\cdot 10^{-10}\n",
    "$$\n",
    "$$\n",
    "\\omega = \\omega' c^{-1} R = 1.55\\cdot 10^{-6}\n",
    "$$\n",
    "\n",
    "Mit $m \\omega^2 R = \\frac{G M m}{R^2}$ ergibt sich eine Abschätzung für die größtmögliche theoretische Winkelgeschwindigkeit in natürlichen Einheiten:\n",
    "$$\n",
    "\\omega_{\\mathrm{max}} = \\sqrt{M}\n",
    "$$\n",
    "Was in natürlichen Einheiten etwa $\\omega_{\\mathrm{max}} = 2.64\\cdot 10^{-5}$ entspricht.\n",
    "\n",
    "Da die Kräfte des Lense-Thirring-Effekts aber $\\propto \\frac{v \\omega}{r}$ sind, lässt sich der Einfluss nur für sehr kleine Radien $r$ bemerken. Allerdings gilt die Formel für die Kraft nur außerhalb der Kugel für $r>1$. Für die Parameter der Erde, kann man also nur einen sehr kleinen Effekt beobachten."
   ]
  },
  {
   "cell_type": "markdown",
   "metadata": {},
   "source": [
    "### Beispiel Neutronenstern\n",
    "\n",
    "Ein Neutronenstern hat typischerweise eine Masse von etwa $M' = 1.5 M_0 = 3 \\cdot 10^{30}\\,\\mathrm{kg}$. Der am schnellsten rotierende bekannte Neutronenstern hat eine Winkelgeschwindigkeit von $\\omega' = 2 \\pi \\cdot 716\\, \\frac{1}{\\mathrm{s}}$.\n",
    "\n",
    "Der Radius beträgt etwa $10^4\\,\\mathrm{m}$.\n",
    "\n",
    "Damit ergibt sich in natürlichen Einheiten:\n",
    "$$\n",
    "M = M' G c^{-2} R^{-1} = 0.22\n",
    "$$\n",
    "$$\n",
    "\\omega = \\omega' c^{-1} R = 0.15\n",
    "$$\n",
    "Auch hier ist der zusätzliche Kraftterm maximal $15\\,\\%$ der Newtonschen Gravitationskraft und hat geringe Auswirkungen."
   ]
  },
  {
   "cell_type": "markdown",
   "metadata": {},
   "source": [
    "### Extremfall\n",
    "Die theoretisch höchste mögliche Winkelgeschwindigkeit wird für eine am Außenrand mit Lichtgeschwindigkeit rotierende Kugel erreicht, d.h. $\\omega_{\\mathrm{max}} = \\frac{c}{R}$. In den gewählten natürlichen Einheiten gilt also $\\omega_{\\mathrm{max}}=1$. Selbst in diesem Fall ist der zusätzliche Kraftterm noch kleiner als der klassische. Der Lense-Thirring-Effekt lässt sich also nicht besonders gut anhand von Trajektorien beobachten, da hier der Einfluss zu gering ist. Die durch den Lense-Thirring-Effekt verursachte Präzession lässt sich hingegen beobachten (vgl. Gravity Probe B)."
   ]
  }
 ],
 "metadata": {
  "kernelspec": {
   "display_name": "Python 3",
   "language": "python",
   "name": "python3"
  },
  "language_info": {
   "codemirror_mode": {
    "name": "ipython",
    "version": 3
   },
   "file_extension": ".py",
   "mimetype": "text/x-python",
   "name": "python",
   "nbconvert_exporter": "python",
   "pygments_lexer": "ipython3",
   "version": "3.10.12"
  }
 },
 "nbformat": 4,
 "nbformat_minor": 2
}
